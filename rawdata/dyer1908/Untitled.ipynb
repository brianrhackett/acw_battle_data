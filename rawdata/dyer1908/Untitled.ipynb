{
 "cells": [
  {
   "cell_type": "code",
   "execution_count": 1,
   "metadata": {
    "collapsed": true
   },
   "outputs": [],
   "source": [
    "import yaml"
   ]
  },
  {
   "cell_type": "code",
   "execution_count": 2,
   "metadata": {
    "collapsed": true
   },
   "outputs": [],
   "source": [
    "import csv"
   ]
  },
  {
   "cell_type": "code",
   "execution_count": 5,
   "metadata": {
    "collapsed": true
   },
   "outputs": [],
   "source": [
    "import datetime\n",
    "import re\n",
    "import os\n",
    "from ruamel.yaml import YAML\n",
    "yaml = YAML(typ='safe')\n",
    "yaml.default_flow_style = False\n",
    "yaml.representer.ignore_aliases = lambda x: True\n",
    "\n",
    "def iter_files():\n",
    "    outdir = 'engagements'\n",
    "    for filename in os.listdir(outdir):\n",
    "        fn = os.path.join(outdir, filename)\n",
    "        state, ext = os.path.splitext(fn)\n",
    "        state = state.split(\"/\")[1]\n",
    "        if ext == '.yml':\n",
    "            with open(fn, 'r') as fp:\n",
    "                data = yaml.load(fp)\n",
    "            yield (state, data)"
   ]
  },
  {
   "cell_type": "code",
   "execution_count": 6,
   "metadata": {
    "collapsed": true
   },
   "outputs": [],
   "source": [
    "dyer = dict(iter_files())"
   ]
  },
  {
   "cell_type": "markdown",
   "metadata": {},
   "source": [
    "- force name\n",
    "- detachment\n",
    "- type"
   ]
  },
  {
   "cell_type": "code",
   "execution_count": 62,
   "metadata": {
    "collapsed": true
   },
   "outputs": [],
   "source": [
    "from arpeggio import Optional, ZeroOrMore, OneOrMore, EOF, UnorderedGroup, OrderedChoice, Sequence\n",
    "from arpeggio import RegExMatch as _\n",
    "from arpeggio import ParserPython\n",
    "\n",
    "def ordinal():\n",
    "    return _('\\d+(st|nd|rd|th)')\n",
    "\n",
    "def punct():\n",
    "    return _(\"[.,;:]\")\n",
    "\n",
    "def integer():\n",
    "    return _(\"\\d+\")\n",
    "\n",
    "def list_sep():\n",
    "    return [(\",\", \"and\"), \",\", \"and\"]\n",
    "\n",
    "def quoted(x):\n",
    "    return ('\"', x, '\"')\n",
    "\n",
    "def parens(x):\n",
    "    return (\"(\", x, \")\")\n"
   ]
  },
  {
   "cell_type": "markdown",
   "metadata": {},
   "source": [
    "Test unit type parser"
   ]
  },
  {
   "cell_type": "code",
   "execution_count": 99,
   "metadata": {
    "collapsed": true
   },
   "outputs": [],
   "source": [
    "NAVY_ORG = [\"UNITED STATES NAVY\", ]\n",
    "\n",
    "SHIP_NAMES = [\n",
    "    \"Conestoga\", \n",
    "    \"Lexington\",\n",
    "    \"Tyler\",\n",
    "    \"Brooklyn\", \n",
    "    \"Octorora\", \n",
    "    \"Hartford\", \n",
    "    \"Ossippee\",\n",
    "    \"Itasca\", \n",
    "    \"Oneida\", \n",
    "    \"Galena\", \n",
    "    \"Metacomet\", \n",
    "    \"Richmond\", \n",
    "    \"Port Royal\", \n",
    "    \"Lackawanna\",\n",
    "    \"Seminole\", \n",
    "    \"Monongahela\",\n",
    "    \"Tecumseh\"\n",
    "]\n",
    "\n",
    "def ship():\n",
    "    return quoted(SHIP_NAMES)\n",
    "\n",
    "def ship_list():\n",
    "    \"\"\"Lists of Ships\n",
    "    \n",
    "    - U. S. Gunboats \"Conestoga\", \"Lexington\" and \"Tyler\".\n",
    "    \n",
    "    \"\"\"\n",
    "    return ship(), ZeroOrMore(Optional(list_sep), ship())\n",
    "\n",
    "def navy_units():\n",
    "    return NAVY_ORG, _('-+'), ship_list()"
   ]
  },
  {
   "cell_type": "code",
   "execution_count": 100,
   "metadata": {},
   "outputs": [
    {
     "data": {
      "text/plain": [
       "[  '\"' [0],  'Conestoga' [1],  '\"' [10], [  ',' [11] ],  '\"' [13],  'Seminole' [14],  '\"' [22] ]"
      ]
     },
     "execution_count": 100,
     "metadata": {},
     "output_type": "execute_result"
    }
   ],
   "source": [
    "ParserPython(ship_list).parse('\"Conestoga\", \"Seminole\"')"
   ]
  },
  {
   "cell_type": "code",
   "execution_count": 101,
   "metadata": {},
   "outputs": [],
   "source": [
    "ARMY_ORG = [\n",
    "  (\"ALABAMA\", Optional((\"and\", \"TENNESSEE\"))),\n",
    " 'ARKANSAS',\n",
    " 'CALIFORNIA',\n",
    " 'COLORADO',\n",
    " 'CONNECTICUT',\n",
    " 'DAKOTA',\n",
    " 'DELAWARE',\n",
    " 'DISTRICT OF COLUMBIA',\n",
    " 'FLORIDA',\n",
    " 'IDAHO TERRITORY',\n",
    " 'ILLINOIS',\n",
    " (\"INDIANA\", Optional(\"LEGION\")),\n",
    " 'IOWA',\n",
    " 'KANSAS',\n",
    " 'KENTUCKY',\n",
    " 'LOUISIANA',\n",
    " 'MAINE',\n",
    " 'MARYLAND',\n",
    " 'MASSACHUSETTS',\n",
    " 'MICHIGAN',\n",
    " 'MINNESOTA',\n",
    " ('MISSISSIPPI', Optional((\"MARINE\", \"BRIGADE\"))),\n",
    " 'MISSOURI',\n",
    " 'NEBRASKA',\n",
    " 'NEVADA',\n",
    " 'NEW HAMPSHIRE',\n",
    " 'NEW JERSEY',\n",
    " 'NEW MEXICO',\n",
    " 'NEW YORK',\n",
    " 'NORTH CAROLINA',\n",
    " 'OHIO',\n",
    " 'OREGON',\n",
    " 'PENNSYLVANIA',\n",
    " 'RHODE ISLAND',\n",
    " 'SOUTH CAROLINA',\n",
    " 'TENNESSEE',\n",
    " 'TEXAS',\n",
    " ('UNITED', 'STATES', Optional([(\"COLORED\", \"TROOPS\")])),\n",
    " 'VERMONT',\n",
    " 'VIRGINIA',\n",
    " 'WASHINGTON',\n",
    " 'WEST VIRGINIA',\n",
    " 'WISCONSIN']"
   ]
  },
  {
   "cell_type": "code",
   "execution_count": 127,
   "metadata": {},
   "outputs": [
    {
     "name": "stdout",
     "output_type": "stream",
     "text": [
      "( | Cos. | \" | A | \" | )\n",
      "( | Cos. | \" | A | \" | , | \" | B | \" | , | and | \" | C | \" | )\n",
      "( | 4 | Cos. | )\n"
     ]
    }
   ],
   "source": [
    "def other_text():\n",
    "    return [\n",
    "    \"By State Troops\",\n",
    "    \"Gen. R. L. McCook and Escort. Gen. McCook killed.\",\n",
    "    \"(No Reports.)\",\n",
    "    \"(Confederate Reports.)\",\n",
    "    \"Train Guard\",\n",
    "    \"Naval Attack on Blockade Runner\",\n",
    "    \"(No Details.)\",\n",
    "    \"Scouting party\",\n",
    "    \"Foraging party\",\n",
    "    \"By Confederate Forces\",\n",
    "    \"To U. S. Forces\",\n",
    "    \"Surrender of Confederate Forces in Departments of Alabama, Mississippi and Eastern Louisiana.\",\n",
    "    \"Explosion of Ordnance Depot.\",\n",
    "    \"United States forces\",\n",
    "    _(\"Attack on U. S. Steamer .*\"),\n",
    "    \"(See Force in Campaign against Mobile.)\",\n",
    "    \"13th Army Corps.\",\n",
    "    \"Picket Attack.\",\n",
    "    \"Pickets\",\n",
    "    \"Pickets, 2nd Brigade, 1st Division, 16th Corps\",\n",
    "    \"picket attack\",\n",
    "    \"(Destruction of Salt Works.)\",\n",
    "    \"Union Indians, under Opothleyholo.\"\n",
    "    ]\n",
    "\n",
    "\n",
    "def quoted_letter():\n",
    "    return \"\\\"\", _(\"[A-Z]\"), Optional(punct), \"\\\"\"\n",
    "\n",
    "\n",
    "def detachments():\n",
    "    \"\"\"Detachments pattern\n",
    "    \n",
    "    - (Detachments)\n",
    "    \n",
    "    \"\"\"\n",
    "    return parens(_(\"Detachments?\"))\n",
    "\n",
    "\n",
    "def section():\n",
    "    return parens(\"Section\")\n",
    "\n",
    "\n",
    "def battalion():\n",
    "    return parens((Optional(ordinal), \"Battalion\"))\n",
    "\n",
    "\n",
    "def mounted():\n",
    "    return parens(\"Mounted\")\n",
    "\n",
    "\n",
    "def named_companies():\n",
    "    \"\"\"List of Company Names.\n",
    "    \n",
    "    - (Co. \"A\")\n",
    "    - (Cos. \"A\" and \"B\")\n",
    "    - (Cos. \"A\", \"B\", and \"C\")\n",
    "    \n",
    "    \"\"\"\n",
    "    return \"(\", _(\"Cos?\\.?\"), quoted_letter, ZeroOrMore(list_sep, quoted_letter), \")\"\n",
    "\n",
    "\n",
    "def num_companies():\n",
    "    \"\"\"Number of companies\n",
    "    \n",
    "    - (4 Cos.)\n",
    "    - (1 Co.)\n",
    "    \n",
    "    \"\"\"\n",
    "    return \"(\", integer, _(\"Cos?\\.?\"), \")\"\n",
    "\n",
    "\n",
    "def companies():\n",
    "    return [named_companies, num_companies]\n",
    "\n",
    "\n",
    "print(ParserPython(named_companies).parse('(Cos. \"A\")'))\n",
    "print(ParserPython(named_companies).parse('(Cos. \"A\", \"B\", and \"C\")'))\n",
    "print(ParserPython(num_companies).parse('(4 Cos.)'))\n"
   ]
  },
  {
   "cell_type": "code",
   "execution_count": 128,
   "metadata": {},
   "outputs": [
    {
     "name": "stdout",
     "output_type": "stream",
     "text": [
      "Battery | \" | B | \" | , | 1st | Light | Artillery\n",
      "Battery | \" | B | \" | , | 1st | Light | Artillery | ( | Section | )\n"
     ]
    }
   ],
   "source": [
    "def one_battery():\n",
    "    return \"Battery\", quoted_letter\n",
    "\n",
    "def multiple_batteries():\n",
    "    return \"Batteries\", OneOrMore(Optional(list_sep), quoted_letter)\n",
    "\n",
    "def artillery():\n",
    "    \"\"\"Artillery Batteries.\n",
    "        \n",
    "    - \"Battery \\\"B\\\", 1st Light Artillery (Section)\"\n",
    "    \n",
    "    \"\"\"\n",
    "    return (Optional(\"Independent\"),\n",
    "            [one_battery, multiple_batteries], \n",
    "            Optional(punct), \n",
    "            Optional(ordinal), \n",
    "            Optional(\"Light\"), \"Artillery\",\n",
    "            Optional([section, detachment])\n",
    "           )\n",
    "\n",
    "ex = \"Battery \\\"B\\\", 1st Light Artillery\"\n",
    "print(ParserPython(artillery).parse(ex))\n",
    "ex = \"Battery \\\"B\\\", 1st Light Artillery (Section)\"\n",
    "print(ParserPython(artillery).parse(ex))"
   ]
  },
  {
   "cell_type": "code",
   "execution_count": 129,
   "metadata": {},
   "outputs": [
    {
     "name": "stdout",
     "output_type": "stream",
     "text": [
      "1st | , | 2nd | , | and | 4th | Infantry\n",
      "22nd | and | 44th | Cavalry\n",
      "6th | and | 12th | Independent | Batteries | Light | Artillery\n"
     ]
    }
   ],
   "source": [
    "UNIT_TYPE = [\n",
    "    (Optional([\"Middle\", \"East\", \"Vidette\"]), \"Cavalry\"),\n",
    "    (Optional([\"Mounted\", \"Colored\"]), \"Infantry\"),\n",
    "    (Optional(\"Independent\"),\n",
    "     Optional(_(\"Batter(y|ies)\")),\n",
    "     Optional([\"Heavy\", \"Light\"]), \"Artillery\")\n",
    "]\n",
    "\n",
    "def unit_note():\n",
    "    \"\"\"Unit notes.\n",
    "    \n",
    "    Notes that appear in parentheses after a unit name.\n",
    "    \"\"\"\n",
    "    return parens([detachment, battalion, companies, mounted])\n",
    "\n",
    "def ordinal_unit():\n",
    "    return ordinal, Optional(unit_note)\n",
    "\n",
    "def ordinal_unit_list():\n",
    "    return (ordinal_unit_in_list(),\n",
    "            ZeroOrMore(list_sep(), ordinal_unit_in_list()),\n",
    "            UNIT_TYPE, Optional(unit_note))\n",
    "\n",
    "for i in (\"1st, 2nd, and 4th Infantry\", \n",
    "          \"22nd and 44th Cavalry\",\n",
    "          \"6th and 12th Independent Batteries Light Artillery\"\n",
    "         ):\n",
    "    print(ParserPython(ordinal_unit_list).parse(i))"
   ]
  },
  {
   "cell_type": "code",
   "execution_count": 157,
   "metadata": {},
   "outputs": [],
   "source": [
    "NAMED_UNIT = [\n",
    "    (\"Landgraeber's\", \"Battery\", '\"F\"', Optional(punct), \"2nd\", \"Light\", \"Artillery\"),\n",
    "    \"Landgraeber's Battery Flying Artillery\",\n",
    "    \"Landgraeber's Battery Flying Artillery (\"F\" 2nd Artillery)\",    \n",
    "    (\"Cogswell's\", \"Independent\", \"Battery\", \"Light\", \"Artillery\"),\n",
    "    (\"Latham's\", \"Co.\", \"Cavalry\"),\n",
    "    \"Chicago Board of Trade Battery Light Artillery\",\n",
    "    \"Fremont's Hussars\",\n",
    "    \"Benton Hussars\",\n",
    "    \"Bowen's Battalion Cavalry\",\n",
    "    \"Jenks' and Smith's Cavalry Cos.\",\n",
    "    \"Phelps' Regt. Infantry\",\n",
    "    \"5th Co. Sharpshooters.\", # Ohio\n",
    "    \"Wright's Battalion Cavalry\"\n",
    "]\n",
    "\n",
    "def unit_name():\n",
    "    \"\"\"Single unit name\n",
    "    \n",
    "    - 1st Cavalry (Detachment)\n",
    "    - 5th Cavalry\n",
    "    - Battery \"B\", 1st Light Artillery\n",
    "    \n",
    "    \"\"\"\n",
    "    return [NAMED_UNIT,\n",
    "            ordinal_unit,\n",
    "            list_of_ordinal_units,\n",
    "           ]\n",
    "\n",
    "\n",
    "def army_units():\n",
    "    \"\"\"Lists of Units.\n",
    "    \n",
    "    - KENTUCKY--5th Cavalry\n",
    "    - PENNSYLVANIA--7th Cavalry (Detachment); 78th and 79th Infantry\n",
    "    \n",
    "    \"\"\"\n",
    "    return ARMY_ORG, _('-+'), (OneOrMore(unit_name, Optional(punct)))\n",
    "\n",
    "\n",
    "def units():\n",
    "    return [navy_units(), army_units()]\n",
    "\n",
    "def unit_list():\n",
    "    return units(), ZeroOrMore(ptional(punct), units())\n",
    "    \n"
   ]
  },
  {
   "cell_type": "markdown",
   "metadata": {},
   "source": [
    "Miscellaneous stuff after the troops engaged:"
   ]
  },
  {
   "cell_type": "code",
   "execution_count": 158,
   "metadata": {
    "collapsed": true
   },
   "outputs": [],
   "source": [
    "def union_losses():\n",
    "    return _(\"(Union loss|Loss).*\")\n",
    "\n",
    "def troops_engaged():\n",
    "    return (Optional([army_units, navy_units]),\n",
    "            Optional(punct), \n",
    "            Optional(other_text), \n",
    "            Optional(punct), \n",
    "            Optional(union_losses), \n",
    "            EOF)"
   ]
  },
  {
   "cell_type": "code",
   "execution_count": null,
   "metadata": {
    "scrolled": false
   },
   "outputs": [
    {
     "name": "stderr",
     "output_type": "stream",
     "text": [
      "ERROR:root:Internal Python error in the inspect module.\n",
      "Below is the traceback from this internal error.\n",
      "\n",
      "ERROR:root:Internal Python error in the inspect module.\n",
      "Below is the traceback from this internal error.\n",
      "\n"
     ]
    },
    {
     "name": "stdout",
     "output_type": "stream",
     "text": [
      "Arkansas/1862-02-16-action-pott-s-hill-sugar-creekERROR! Session/line number was not unique in  database. History logging moved to new sessionILLINOIS--3rd Cavalry. MISSOURI--Wright's Battalion Cavalry. Union loss, 1 killed, 3 wounded. Total, 4. \n",
      "470Expected '(' or punct or 'Landgraeber's' or 'Landgraeber's Battery Flying Artillery' or 'Landgraeber's Battery Flying Artillery ( 2nd Artillery)' or 'Cogswell's' or 'Latham's' or 'Chicago Board of Trade Battery Light Artillery' or 'Fremont's Hussars' or 'Benton Hussars' or 'Bowen's Battalion Cavalry' or 'Jenks' and Smith's Cavalry Cos.' or 'Phelps' Regt. Infantry' or '5th Co. Sharpshooters.' or 'Wright's Battalion Cavalry' or ordinal or ordinal or punct or 'By State Troops' or 'Gen. R. L. McCook and Escort. Gen. McCook killed.' or '(No Reports.)' or '(Confederate Reports.)' or 'Train Guard' or 'Naval Attack on Blockade Runner' or '(No Details.)' or 'Scouting party' or 'Foraging party' or 'By Confederate Forces' or 'To U. S. Forces' or 'Surrender of Confederate Forces in Departments of Alabama, Mississippi and Eastern Louisiana.' or 'Explosion of Ordnance Depot.' or 'United States forces' or 'Attack on U. S. Steamer .*' or '(See Force in Campaign against Mobile.)' or '13th Army Corps.' or 'Picket Attack.' or 'Pickets' or 'Pickets, 2nd Brigade, 1st Division, 16th Corps' or 'picket attack' or '(Destruction of Salt Works.)' or 'Union Indians, under Opothleyholo.' or punct or union_losses or EOF at position (1, 15) => 'NOIS--3rd *Cavalry. M'.\n",
      "\n",
      "Traceback (most recent call last):\n",
      "arpeggio.NoMatch: Expected '(' or punct or 'Landgraeber's' or 'Landgraeber's Battery Flying Artillery' or 'Landgraeber's Battery Flying Artillery ( 2nd Artillery)' or 'Cogswell's' or 'Latham's' or 'Chicago Board of Trade Battery Light Artillery' or 'Fremont's Hussars' or 'Benton Hussars' or 'Bowen's Battalion Cavalry' or 'Jenks' and Smith's Cavalry Cos.' or 'Phelps' Regt. Infantry' or '5th Co. Sharpshooters.' or 'Wright's Battalion Cavalry' or ordinal or ordinal or punct or 'By State Troops' or 'Gen. R. L. McCook and Escort. Gen. McCook killed.' or '(No Reports.)' or '(Confederate Reports.)' or 'Train Guard' or 'Naval Attack on Blockade Runner' or '(No Details.)' or 'Scouting party' or 'Foraging party' or 'By Confederate Forces' or 'To U. S. Forces' or 'Surrender of Confederate Forces in Departments of Alabama, Mississippi and Eastern Louisiana.' or 'Explosion of Ordnance Depot.' or 'United States forces' or 'Attack on U. S. Steamer .*' or '(See Force in Campaign against Mobile.)' or '13th Army Corps.' or 'Picket Attack.' or 'Pickets' or 'Pickets, 2nd Brigade, 1st Division, 16th Corps' or 'picket attack' or '(Destruction of Salt Works.)' or 'Union Indians, under Opothleyholo.' or punct or union_losses or EOF at position (1, 15) => 'NOIS--3rd *Cavalry. M'.\n",
      "\n",
      "During handling of the above exception, another exception occurred:\n",
      "\n",
      "Traceback (most recent call last):\n",
      "NameError: name 'stop' is not defined\n",
      "\n",
      "During handling of the above exception, another exception occurred:\n",
      "\n",
      "Traceback (most recent call last):\n",
      "AttributeError: 'NameError' object has no attribute '_render_traceback_'\n",
      "\n",
      "During handling of the above exception, another exception occurred:\n",
      "\n",
      "Traceback (most recent call last):\n",
      "AssertionError\n",
      "Traceback (most recent call last):\n",
      "arpeggio.NoMatch: Expected '(' or punct or 'Landgraeber's' or 'Landgraeber's Battery Flying Artillery' or 'Landgraeber's Battery Flying Artillery ( 2nd Artillery)' or 'Cogswell's' or 'Latham's' or 'Chicago Board of Trade Battery Light Artillery' or 'Fremont's Hussars' or 'Benton Hussars' or 'Bowen's Battalion Cavalry' or 'Jenks' and Smith's Cavalry Cos.' or 'Phelps' Regt. Infantry' or '5th Co. Sharpshooters.' or 'Wright's Battalion Cavalry' or ordinal or ordinal or punct or 'By State Troops' or 'Gen. R. L. McCook and Escort. Gen. McCook killed.' or '(No Reports.)' or '(Confederate Reports.)' or 'Train Guard' or 'Naval Attack on Blockade Runner' or '(No Details.)' or 'Scouting party' or 'Foraging party' or 'By Confederate Forces' or 'To U. S. Forces' or 'Surrender of Confederate Forces in Departments of Alabama, Mississippi and Eastern Louisiana.' or 'Explosion of Ordnance Depot.' or 'United States forces' or 'Attack on U. S. Steamer .*' or '(See Force in Campaign against Mobile.)' or '13th Army Corps.' or 'Picket Attack.' or 'Pickets' or 'Pickets, 2nd Brigade, 1st Division, 16th Corps' or 'picket attack' or '(Destruction of Salt Works.)' or 'Union Indians, under Opothleyholo.' or punct or union_losses or EOF at position (1, 15) => 'NOIS--3rd *Cavalry. M'.\n",
      "\n",
      "During handling of the above exception, another exception occurred:\n",
      "\n",
      "Traceback (most recent call last):\n",
      "NameError: name 'stop' is not defined\n",
      "\n",
      "During handling of the above exception, another exception occurred:\n",
      "\n",
      "Traceback (most recent call last):\n",
      "AttributeError: 'NameError' object has no attribute '_render_traceback_'\n",
      "\n",
      "During handling of the above exception, another exception occurred:\n",
      "\n",
      "Traceback (most recent call last):\n",
      "TypeError: must be str, not list\n",
      "\n",
      "During handling of the above exception, another exception occurred:\n",
      "\n",
      "Traceback (most recent call last):\n",
      "AttributeError: 'TypeError' object has no attribute '_render_traceback_'\n",
      "\n",
      "During handling of the above exception, another exception occurred:\n",
      "\n",
      "Traceback (most recent call last):\n",
      "AssertionError\n"
     ]
    }
   ],
   "source": [
    "from arpeggio import NoMatch\n",
    "parser = ParserPython(troops_engaged)\n",
    "\n",
    "for engagement in dyer[\"Arkansas\"]:\n",
    "    try:\n",
    "        text = engagement['troops_engaged']\n",
    "    except KeyError:\n",
    "        continue\n",
    "    try:\n",
    "        parser.parse(text)\n",
    "    except NoMatch as e:\n",
    "        print(engagement['slug'], text)\n",
    "        print(e)\n",
    "        stop\n",
    "\n",
    "    "
   ]
  },
  {
   "cell_type": "code",
   "execution_count": null,
   "metadata": {
    "collapsed": true
   },
   "outputs": [],
   "source": []
  },
  {
   "cell_type": "code",
   "execution_count": null,
   "metadata": {
    "collapsed": true
   },
   "outputs": [],
   "source": []
  },
  {
   "cell_type": "code",
   "execution_count": null,
   "metadata": {
    "collapsed": true
   },
   "outputs": [],
   "source": []
  },
  {
   "cell_type": "code",
   "execution_count": null,
   "metadata": {
    "collapsed": true
   },
   "outputs": [],
   "source": []
  }
 ],
 "metadata": {
  "kernelspec": {
   "display_name": "Python 3",
   "language": "python",
   "name": "python3"
  },
  "language_info": {
   "codemirror_mode": {
    "name": "ipython",
    "version": 3
   },
   "file_extension": ".py",
   "mimetype": "text/x-python",
   "name": "python",
   "nbconvert_exporter": "python",
   "pygments_lexer": "ipython3",
   "version": "3.6.3"
  }
 },
 "nbformat": 4,
 "nbformat_minor": 2
}
