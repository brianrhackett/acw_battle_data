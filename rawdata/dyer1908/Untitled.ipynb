{
 "cells": [
  {
   "cell_type": "code",
   "execution_count": 1,
   "metadata": {
    "collapsed": true
   },
   "outputs": [],
   "source": [
    "import yaml"
   ]
  },
  {
   "cell_type": "code",
   "execution_count": 2,
   "metadata": {
    "collapsed": true
   },
   "outputs": [],
   "source": [
    "import csv"
   ]
  },
  {
   "cell_type": "code",
   "execution_count": 61,
   "metadata": {
    "collapsed": true
   },
   "outputs": [],
   "source": [
    "states = {'AL': \"Alabama\",\n",
    " 'AR': \"Arkansas\",\n",
    " 'AZ': \"Territories\",\n",
    " 'CA': \"California\",\n",
    " 'CO': \"Territories\",\n",
    " 'DC': \"Miscellaneous\",\n",
    " 'DT': \"Territories\",\n",
    " 'FL': \"Florida\",\n",
    " 'FRA': \"Miscellaneous\",\n",
    " 'GA': \"Georgia\",\n",
    " 'IL': \"Miscellaneous\",\n",
    " 'IN': \"Miscellaneous\",\n",
    " 'KS': \"Kansas\",\n",
    " 'KY': \"Kentucky\",\n",
    " 'LA': \"Louisiana\",\n",
    " 'MD': \"Maryland\",\n",
    " 'MEX': \"Miscellaneous\",\n",
    " 'MN': \"Minnesota\",\n",
    " 'MO': \"Missouri\",\n",
    " 'MS': \"Mississippi\",\n",
    " 'NC': \"North_Carolina\",\n",
    " 'NE': \"Miscellaneous\",\n",
    " 'NM': \"Territories\",\n",
    " 'NV': \"Territories\",\n",
    " 'NY': \"Miscellaneous\",\n",
    " 'OH': \"Miscellaneous\",\n",
    " 'OK': \"Miscellaneous\",\n",
    " 'OR': \"Territories\",\n",
    " 'PA': \"Pennsylvania\",\n",
    " 'SC': \"South Carolina\",\n",
    " 'TN': \"Tennessee\",\n",
    " 'TX': \"Texas\",\n",
    " 'UT': \"Territories\",\n",
    " 'VA': \"Virginia\",\n",
    " 'WA': \"Territories\",\n",
    " 'WV': \"West_Virginia\"\n",
    "}"
   ]
  },
  {
   "cell_type": "code",
   "execution_count": 97,
   "metadata": {
    "collapsed": true
   },
   "outputs": [],
   "source": [
    "import datetime\n",
    "import re\n",
    "import os\n",
    "from ruamel.yaml import YAML\n",
    "yaml = YAML(typ='safe')\n",
    "yaml.default_flow_style = False\n",
    "yaml.representer.ignore_aliases = lambda x: True\n",
    "\n",
    "def iter_files():\n",
    "    outdir = 'engagements'\n",
    "    for filename in os.listdir(outdir):\n",
    "        fn = os.path.join(outdir, filename)\n",
    "        state, ext = os.path.splitext(fn)\n",
    "        if ext == '.yml':\n",
    "            with open(fn, 'r') as fp:\n",
    "                data = yaml.load(fp)\n",
    "            yield data\n"
   ]
  },
  {
   "cell_type": "code",
   "execution_count": 143,
   "metadata": {},
   "outputs": [],
   "source": [
    "import re\n",
    "def parse_text(text):\n",
    "    unit_pat = re.compile(\"[A-Z']{2,}( [A-Z']{2,})*\")\n",
    "    return set(x.group(0) for x in unit_pat.finditer(text))\n",
    "\n",
    "import enchant\n",
    "spelldict = enchant.DictWithPWL(\"en_US\", \"dict.txt\")\n",
    "chkr = enchant.checker.SpellChecker(spelldict)\n",
    "\n",
    "misspellings = set()\n",
    "for dat in iter_files():\n",
    "    for row in dat:\n",
    "        try:\n",
    "            chkr.set_text(row['text'])\n",
    "        except KeyError:\n",
    "            continue\n",
    "        misspellings |= set(x.word for x in chkr)            \n",
    "        try:\n",
    "            chkr.set_text(row['battle_name'])\n",
    "        except KeyError:\n",
    "            continue            \n",
    "        misspellings |= set(x.word for x in chkr)\n",
    "            \n",
    "\n"
   ]
  },
  {
   "cell_type": "code",
   "execution_count": 144,
   "metadata": {},
   "outputs": [
    {
     "name": "stdout",
     "output_type": "stream",
     "text": [
      "\n"
     ]
    }
   ],
   "source": [
    "print('\\n'.join(sorted(misspellings)))"
   ]
  },
  {
   "cell_type": "code",
   "execution_count": 109,
   "metadata": {},
   "outputs": [
    {
     "data": {
      "text/plain": [
       "{\"'G\",\n",
       " 'ALABAMA',\n",
       " 'ARKANSAS',\n",
       " 'CALIFORNIA',\n",
       " 'CAVALRY',\n",
       " 'COLORADO',\n",
       " 'COLORED TROOPS',\n",
       " 'CONNECTICUT',\n",
       " 'DAKOTA',\n",
       " 'DELAWARE',\n",
       " 'DISTRICT OF COLUMBIA',\n",
       " 'DISTRIST OF COLUMBIA',\n",
       " \"FARRAGUT'S FLEET\",\n",
       " 'FLORIDA',\n",
       " 'IDAHO TERRITORY',\n",
       " 'ILINOIS',\n",
       " 'ILLINOIS',\n",
       " 'INDEPENDENT SCOUTS',\n",
       " 'INDIANA',\n",
       " 'INDIANA LEGION',\n",
       " 'INFANTRY',\n",
       " 'IOWA',\n",
       " 'KAN',\n",
       " 'KANSAS',\n",
       " 'KENTUCKY',\n",
       " 'KENTUCY',\n",
       " 'LOUISIANA',\n",
       " 'MAINE',\n",
       " 'MARINE BRIGADE',\n",
       " 'MARVLAND',\n",
       " 'MARYLAND',\n",
       " 'MASACHUSETTS',\n",
       " 'MASSA CHUSETTS',\n",
       " 'MASSACHUETTS',\n",
       " 'MASSACHUSETES',\n",
       " 'MASSACHUSETTS',\n",
       " 'MASSACHUSUETTS',\n",
       " 'MICHIGAN',\n",
       " 'MINNESOTA',\n",
       " 'MISS',\n",
       " 'MISSISSIPPI',\n",
       " 'MISSOURI',\n",
       " 'NAVY',\n",
       " 'NEBRASKA',\n",
       " 'NEVADA',\n",
       " 'NEW HAMPSHIRE',\n",
       " 'NEW JERSEY',\n",
       " 'NEW MEXICO',\n",
       " 'NEW YORK',\n",
       " 'NORTH CAROLINA',\n",
       " \"O'H\",\n",
       " 'OHIO',\n",
       " 'OHO',\n",
       " 'OREGON',\n",
       " 'PENNSYL',\n",
       " 'PENNSYLVANIA',\n",
       " 'RHODE ISLAND',\n",
       " 'ROHDE ISLAND',\n",
       " 'SAS',\n",
       " 'SOUTH CAROLINA',\n",
       " 'TENNESSEE',\n",
       " 'TEXAS',\n",
       " 'TRANSPORTS',\n",
       " 'UNITED',\n",
       " 'UNITED STATES',\n",
       " 'UNITED STATES COLORED TROOPS',\n",
       " 'UNITED STATES FORCES',\n",
       " 'UNITED STATES NAVY',\n",
       " 'VANIA',\n",
       " 'VERMONT',\n",
       " 'VIRGINIA',\n",
       " 'WASHINGTON',\n",
       " 'WEST VIRGINIA',\n",
       " 'WEST VIRVINIA',\n",
       " 'WISCONSIN'}"
      ]
     },
     "execution_count": 109,
     "metadata": {},
     "output_type": "execute_result"
    }
   ],
   "source": [
    "unit_types"
   ]
  },
  {
   "cell_type": "code",
   "execution_count": null,
   "metadata": {
    "collapsed": true
   },
   "outputs": [],
   "source": []
  }
 ],
 "metadata": {
  "kernelspec": {
   "display_name": "Python 3",
   "language": "python",
   "name": "python3"
  },
  "language_info": {
   "codemirror_mode": {
    "name": "ipython",
    "version": 3
   },
   "file_extension": ".py",
   "mimetype": "text/x-python",
   "name": "python",
   "nbconvert_exporter": "python",
   "pygments_lexer": "ipython3",
   "version": "3.6.3"
  }
 },
 "nbformat": 4,
 "nbformat_minor": 2
}
