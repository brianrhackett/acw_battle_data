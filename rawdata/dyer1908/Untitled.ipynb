{
 "cells": [
  {
   "cell_type": "code",
   "execution_count": 272,
   "metadata": {
    "collapsed": true
   },
   "outputs": [],
   "source": [
    "import yaml"
   ]
  },
  {
   "cell_type": "code",
   "execution_count": 273,
   "metadata": {
    "collapsed": true
   },
   "outputs": [],
   "source": [
    "import csv"
   ]
  },
  {
   "cell_type": "code",
   "execution_count": 754,
   "metadata": {
    "collapsed": true
   },
   "outputs": [],
   "source": [
    "import datetime\n",
    "import re\n",
    "import os\n",
    "from ruamel.yaml import YAML\n",
    "yaml = YAML(typ='safe')\n",
    "yaml.default_flow_style = False\n",
    "yaml.representer.ignore_aliases = lambda x: True\n",
    "\n",
    "def iter_files():\n",
    "    outdir = 'engagements'\n",
    "    for filename in os.listdir(outdir):\n",
    "        fn = os.path.join(outdir, filename)\n",
    "        state, ext = os.path.splitext(fn)\n",
    "        state = state.split(\"/\")[1]\n",
    "        if ext == '.yml':\n",
    "            with open(fn, 'r') as fp:\n",
    "                data = yaml.load(fp)\n",
    "            yield (state, data)"
   ]
  },
  {
   "cell_type": "code",
   "execution_count": 755,
   "metadata": {
    "collapsed": true
   },
   "outputs": [],
   "source": [
    "dyer = dict(iter_files())"
   ]
  },
  {
   "cell_type": "markdown",
   "metadata": {},
   "source": [
    "- force name\n",
    "- detachment\n",
    "- type"
   ]
  },
  {
   "cell_type": "code",
   "execution_count": 804,
   "metadata": {
    "collapsed": true
   },
   "outputs": [],
   "source": [
    "UNIT_ORGS = [\n",
    "  (\"ALABAMA\", Optional((\"and\", \"TENNESSEE\"))),\n",
    " 'ARKANSAS',\n",
    " 'CALIFORNIA',\n",
    " 'COLORADO',\n",
    " 'CONNECTICUT',\n",
    " 'DAKOTA',\n",
    " 'DELAWARE',\n",
    " 'DISTRICT OF COLUMBIA',\n",
    " 'FLORIDA',\n",
    " 'IDAHO TERRITORY',\n",
    " 'ILLINOIS',\n",
    " (\"INDIANA\", Optional(\"LEGION\")),\n",
    " 'IOWA',\n",
    " 'KANSAS',\n",
    " 'KENTUCKY',\n",
    " 'LOUISIANA',\n",
    " 'MAINE',\n",
    " 'MARYLAND',\n",
    " 'MASSACHUSETTS',\n",
    " 'MICHIGAN',\n",
    " 'MINNESOTA',\n",
    " ('MISSISSIPPI', Optional((\"MARINE\", \"BRIGADE\"))),\n",
    " 'MISSOURI',\n",
    " 'NEBRASKA',\n",
    " 'NEVADA',\n",
    " 'NEW HAMPSHIRE',\n",
    " 'NEW JERSEY',\n",
    " 'NEW MEXICO',\n",
    " 'NEW YORK',\n",
    " 'NORTH CAROLINA',\n",
    " 'OHIO',\n",
    " 'OREGON',\n",
    " 'PENNSYLVANIA',\n",
    " 'RHODE ISLAND',\n",
    " 'SOUTH CAROLINA',\n",
    " 'TENNESSEE',\n",
    " 'TEXAS',\n",
    " ('UNITED', 'STATES', Optional([\"NAVY\", (\"COLORED\", \"TROOPS\")])),\n",
    " 'VERMONT',\n",
    " 'VIRGINIA',\n",
    " 'WASHINGTON',\n",
    " 'WEST VIRGINIA',\n",
    " 'WISCONSIN']"
   ]
  },
  {
   "cell_type": "code",
   "execution_count": 805,
   "metadata": {
    "collapsed": true
   },
   "outputs": [],
   "source": [
    "from arpeggio import Optional, ZeroOrMore, OneOrMore, EOF, UnorderedGroup, OrderedChoice, Sequence\n",
    "from arpeggio import RegExMatch as _\n",
    "from arpeggio import ParserPython\n",
    "\n",
    "def ordinal():\n",
    "    return _('\\d+(st|nd|rd|th)')\n",
    "\n",
    "def punct():\n",
    "    return _(\"[.,;:]\")\n",
    "\n",
    "def integer():\n",
    "    return _(\"\\d+\")\n",
    "\n",
    "def list_sep():\n",
    "    return [(\",\", \"and\"), \",\", \"and\"]\n"
   ]
  },
  {
   "cell_type": "markdown",
   "metadata": {},
   "source": [
    "Test unit type parser"
   ]
  },
  {
   "cell_type": "code",
   "execution_count": 806,
   "metadata": {
    "collapsed": true
   },
   "outputs": [],
   "source": [
    "SHIP_NAMES = [\n",
    "    \"Conestoga\", \n",
    "    \"Lexington\",\n",
    "    \"Tyler\",\n",
    "    \"Brooklyn\", \n",
    "    \"Octorora\", \n",
    "    \"Hartford\", \n",
    "    \"Ossippee\",\n",
    "    \"Itasca\", \n",
    "    \"Oneida\", \n",
    "    \"Galena\", \n",
    "    \"Metacomet\", \n",
    "    \"Richmond\", \n",
    "    \"Port Royal\", \n",
    "    \"Lackawanna\",\n",
    "    \"Seminole\", \n",
    "    \"Monongahela\",\n",
    "    \"Tecumseh\"\n",
    "]\n",
    "\n",
    "def ship_name():\n",
    "    return Optional(\"\\\"\"), SHIP_NAMES, Optional(punct), Optional(\"\\\"\")\n",
    "\n",
    "def ships():\n",
    "    \"\"\"Lists of Ships\n",
    "    \n",
    "    - U. S. Gunboats \"Conestoga\", \"Lexington\" and \"Tyler.\"\n",
    "    \n",
    "    \"\"\"\n",
    "    return _(r\"U.\\s*S.\\s+Gunboats?\"), Optional(ship_name, ZeroOrMore(Optional(list_sep), ship_name))"
   ]
  },
  {
   "cell_type": "code",
   "execution_count": 807,
   "metadata": {},
   "outputs": [
    {
     "data": {
      "text/plain": [
       "[  'U. S. Gunboats' [0] ]"
      ]
     },
     "execution_count": 807,
     "metadata": {},
     "output_type": "execute_result"
    }
   ],
   "source": [
    "ParserPython(ships).parse(\"U. S. Gunboats\")"
   ]
  },
  {
   "cell_type": "code",
   "execution_count": 808,
   "metadata": {},
   "outputs": [
    {
     "data": {
      "text/plain": [
       "[  'U. S. Gunboats' [0], [  '\"' [15],  'Conestoga' [16],  '\"' [25] ], [  ',' [26] ], [  '\"' [28],  'Lexington' [29],  '\"' [38] ], [  'and' [40] ], [  '\"' [44],  'Tyler' [45], punct '.' [50],  '\"' [51] ] ]"
      ]
     },
     "execution_count": 808,
     "metadata": {},
     "output_type": "execute_result"
    }
   ],
   "source": [
    "ParserPython(ships).parse(\"U. S. Gunboats \\\"Conestoga\\\", \\\"Lexington\\\" and \\\"Tyler.\\\"\")"
   ]
  },
  {
   "cell_type": "code",
   "execution_count": 809,
   "metadata": {},
   "outputs": [
    {
     "name": "stdout",
     "output_type": "stream",
     "text": [
      "( | Detachment | )\n",
      "( | Section | )\n",
      "( | Cos. | \" | A | \" | )\n",
      "( | Cos. | \" | A | \" | , | \" | B | \" | , | and | \" | C | \" | )\n",
      "( | 4 | Cos. | )\n"
     ]
    }
   ],
   "source": [
    "OTHER_PATTERNS = [\n",
    "    \"By State Troops\",\n",
    "    \"Gen. R. L. McCook and Escort. Gen. McCook killed.\",\n",
    "    \"(No Reports.)\",\n",
    "    \"(Confederate Reports.)\",\n",
    "    \"Train Guard\",\n",
    "    \"Naval Attack on Blockade Runner\",\n",
    "    \"(No Details.)\",\n",
    "    \"Scouting party\",\n",
    "    \"Foraging party\",\n",
    "    \"By Confederate Forces\",\n",
    "    \"To U. S. Forces\",\n",
    "    \"Surrender of Confederate Forces in Departments of Alabama, Mississippi and Eastern Louisiana.\",\n",
    "    \"Explosion of Ordnance Depot.\",\n",
    "    \"United States forces\",\n",
    "    _(\"Attack on U. S. Steamer .*\"),\n",
    "    \"(See Force in Campaign against Mobile.)\",\n",
    "    \"13th Army Corps.\",\n",
    "    \"Picket Attack.\",\n",
    "    \"Pickets\",\n",
    "    \"Pickets, 2nd Brigade, 1st Division, 16th Corps\"\n",
    "]\n",
    "\n",
    "def quoted_letter():\n",
    "    return \"\\\"\", _(\"[A-Z]\"), Optional(punct), \"\\\"\"\n",
    "\n",
    "def other():\n",
    "    return OTHER_PATTERNS\n",
    "\n",
    "def detachment():\n",
    "    \"\"\"Detachment pattern.\n",
    "    \n",
    "    - (Detachment)\n",
    "    \n",
    "    \"\"\"\n",
    "    return \"(\", \"Detachment\", \")\"\n",
    "\n",
    "def detachments():\n",
    "    \"\"\"Detachments pattern\n",
    "    \n",
    "    - (Detachments)\n",
    "    \n",
    "    \"\"\"\n",
    "    return \"(\", \"Detachments\", \")\"\n",
    "\n",
    "def section():\n",
    "    return \"(\", \"Section\", \")\"\n",
    "\n",
    "def battalion():\n",
    "    return \"(\", Optional(ordinal), \"Battalion\", \")\"\n",
    "\n",
    "def mounted():\n",
    "    return \"(\", \"Mounted\", \")\"\n",
    "\n",
    "print(ParserPython(detachment).parse(\"(Detachment)\"))\n",
    "print(ParserPython(section).parse(\"(Section)\"))\n",
    "\n",
    "def named_companies():\n",
    "    \"\"\"List of Company Names.\n",
    "    \n",
    "    - (Co. \"A\")\n",
    "    - (Cos. \"A\" and \"B\")\n",
    "    - (Cos. \"A\", \"B\", and \"C\")\n",
    "    \n",
    "    \"\"\"\n",
    "    return \"(\", _(\"Cos?\\.?\"), quoted_letter, ZeroOrMore(list_sep, quoted_letter), \")\"\n",
    "\n",
    "def num_companies():\n",
    "    \"\"\"Number of companies\n",
    "    \n",
    "    - (4 Cos.)\n",
    "    - (1 Co.)\n",
    "    \n",
    "    \"\"\"\n",
    "    return \"(\", integer, _(\"Cos?\\.?\"), \")\"\n",
    "\n",
    "def companies():\n",
    "    return [named_companies, num_companies]\n",
    "\n",
    "\n",
    "print(ParserPython(named_companies).parse('(Cos. \"A\")'))\n",
    "print(ParserPython(named_companies).parse('(Cos. \"A\", \"B\", and \"C\")'))\n",
    "print(ParserPython(num_companies).parse('(4 Cos.)'))\n"
   ]
  },
  {
   "cell_type": "code",
   "execution_count": 773,
   "metadata": {},
   "outputs": [
    {
     "name": "stdout",
     "output_type": "stream",
     "text": [
      "Battery | \" | B | \" | , | 1st | Light | Artillery | ( | Section | )\n"
     ]
    }
   ],
   "source": [
    "def one_battery():\n",
    "    return \"Battery\", quoted_letter\n",
    "\n",
    "def multiple_batteries():\n",
    "    return \"Batteries\", OneOrMore(Optional(list_sep), quoted_letter)\n",
    "\n",
    "def artillery():\n",
    "    \"\"\"Artillery Batteries.\n",
    "        \n",
    "    - \"Battery \\\"B\\\", 1st Light Artillery (Section)\"\n",
    "    \n",
    "    \"\"\"\n",
    "    return (Optional(\"Independent\"),\n",
    "            [one_battery, multiple_batteries], \n",
    "            Optional(punct), \n",
    "            Optional(ordinal), \n",
    "            Optional(\"Light\"), \"Artillery\",\n",
    "            Optional([section, detachment])\n",
    "           )\n",
    "\n",
    "ex = \"Battery \\\"B\\\", 1st Light Artillery\"\n",
    "ParserPython(artillery_battery).parse(ex)\n",
    "ex = \"Battery \\\"B\\\", 1st Light Artillery (Section)\"\n",
    "print(ParserPython(artillery_battery).parse(ex))"
   ]
  },
  {
   "cell_type": "code",
   "execution_count": 793,
   "metadata": {},
   "outputs": [
    {
     "name": "stdout",
     "output_type": "stream",
     "text": [
      "1st | , | 2nd | , | and | 4th | Infantry\n",
      "22nd | and | 44th | Cavalry\n",
      "6th | and | 12th | Independent | Batteries | Light | Artillery\n"
     ]
    }
   ],
   "source": [
    "UNIT_TYPES = [(Optional([\"Middle\", \"East\", \"Veteran\", \"Vidette\"]), \"Cavalry\"),\n",
    "              (Optional([\"Mounted\", \"Veteran\", \"Colored\"]), \"Infantry\"),\n",
    "              (Optional(\"Independent\"), Optional([\"Battery\", \"Batteries\"]), \"Light\", \"Artillery\"),\n",
    "              (Optional(\"Heavy\"), \"Artillery\")\n",
    "             ]\n",
    "\n",
    "def ordinal_unit():\n",
    "    return (ordinal, \n",
    "            UNIT_TYPES,\n",
    "            Optional([detachment, battalion, named_companies, num_companies, mounted])\n",
    "            )\n",
    "\n",
    "def ordinal_unit_in_list():\n",
    "    return ordinal, Optional([mounted, companies])\n",
    "    \n",
    "def ordinal_units():\n",
    "    return (ordinal_unit_in_list, \n",
    "            ZeroOrMore(Optional(list_sep), \n",
    "                       ordinal_unit_in_list), \n",
    "            UNIT_TYPES,\n",
    "            Optional(detachments))\n",
    "\n",
    "for i in (\"1st, 2nd, and 4th Infantry\", \n",
    "          \"22nd and 44th Cavalry\",\n",
    "          \"6th and 12th Independent Batteries Light Artillery\"\n",
    "         ):\n",
    "    print(ParserPython(ordinal_units).parse(i))"
   ]
  },
  {
   "cell_type": "code",
   "execution_count": 799,
   "metadata": {
    "collapsed": true
   },
   "outputs": [],
   "source": [
    "OTHER_UNIT_TEXT = [\n",
    "    \"Navy\",\n",
    "    \"Batteries\"\n",
    "]\n",
    "\n",
    "NAMED_UNITS = [\n",
    "    (\"Landgraeber's\", \"Battery\", '\"F\"', Optional(punct), \"2nd\", \"Light\", \"Artillery\"),\n",
    "    \"Landgraeber's Battery Flying Artillery\",\n",
    "    \"Landgraeber's Battery Flying Artillery (\"F\" 2nd Artillery)\",    \n",
    "    (\"Cogswell's\", \"Independent\", \"Battery\", \"Light\", \"Artillery\"),\n",
    "    (\"Latham's\", \"Co.\", \"Cavalry\"),\n",
    "    \"Chicago Board of Trade Battery Light Artillery\",\n",
    "    \"Fremont's Hussars\",\n",
    "    \"Benton Hussars\",\n",
    "    \"Bowen's Battalion Cavalry\",\n",
    "    \"Jenks' and Smith's Cavalry Cos.\",\n",
    "    \"Phelps' Regt. Infantry\",\n",
    "    \"5th Co. Sharpshooters.\", # Ohio\n",
    "]\n",
    "\n",
    "def unit_name():\n",
    "    \"\"\"Single unit name\n",
    "    \n",
    "    - 1st Cavalry (Detachment)\n",
    "    - 5th Cavalry\n",
    "    - Battery \"B\", 1st Light Artillery\n",
    "    \n",
    "    \"\"\"\n",
    "    return [NAMED_UNITS,\n",
    "            artillery,\n",
    "            ordinal_unit,\n",
    "            ordinal_units,\n",
    "            OTHER_UNIT_TEXT\n",
    "           ]\n",
    "\n",
    "def unit_list():\n",
    "    \"\"\"Lists of Units.\n",
    "    \n",
    "    - KENTUCKY--5th Cavalry\n",
    "    - PENNSYLVANIA--7th Cavalry (Detachment); 78th and 79th Infantry\n",
    "    \n",
    "    \"\"\"\n",
    "    return UNIT_ORGS, _('-+'), (OneOrMore(unit_name, Optional(punct)))\n",
    "\n",
    "def union_losses():\n",
    "    return _(\"(Union loss|Loss).*\")\n"
   ]
  },
  {
   "cell_type": "markdown",
   "metadata": {},
   "source": [
    "Miscellaneous stuff after the troops engaged:"
   ]
  },
  {
   "cell_type": "code",
   "execution_count": 800,
   "metadata": {
    "collapsed": true
   },
   "outputs": [],
   "source": [
    "extra_text = [\n",
    "    \"picket attack\",\n",
    "    \"(Destruction of Salt Works.)\"\n",
    "]"
   ]
  },
  {
   "cell_type": "code",
   "execution_count": 801,
   "metadata": {
    "collapsed": true
   },
   "outputs": [],
   "source": [
    "def troops_engaged():\n",
    "    return ([other, \n",
    "             ships, \n",
    "             OneOrMore(unit_list)], \n",
    "            Optional(punct), \n",
    "            Optional(extra_text), \n",
    "            Optional(punct), \n",
    "            Optional(union_losses), \n",
    "            EOF)"
   ]
  },
  {
   "cell_type": "code",
   "execution_count": 810,
   "metadata": {
    "scrolled": false
   },
   "outputs": [
    {
     "name": "stdout",
     "output_type": "stream",
     "text": [
      "Arkansas/1861-12-09-skirmish-bushy-creek Union Indians, under Opothleyholo.\n",
      "Arkansas/1862-02-16-action-pott-s-hill-sugar-creek ILLINOIS--3rd Cavalry. MISSOURI--Wright's Battalion Cavalry. Union loss, 1 killed, 3 wounded. Total, 4.\n",
      "Arkansas/1862-05-19-skirmish-searcy-landing-little-red-river MISSOURI--4th Cavalry (Cos. \"A,\" \"B,\" \"C,\" \"D\"); Battery \"B,\" 1st Light Artillery; 3rd (Co. \"B\") and 17th Infantry (Cos. \"A,\" \"F,\" \"G,\" \"H\"). Union loss, 15 killed, 32 wounded, 2 missing. Total, 49.\n",
      "Arkansas/1862-06-12-action-waddell-s-farm-indian-creek ILLINOIS--9th Cavalry (Cos. \"A,\" \"C,\" \"K,\" \"M\"). IOWA--3rd Cavalry. MISSOURI--Bowen's Battalion Cavalry. Union loss, 4 killed, 8 wounded. Total, 12.\n",
      "Arkansas/1862-06-17-engagement-st-charles-white-river INDIANA--46th Infantry. UNITED STATES--Navy; Gunboats \"Lexington,\" \"Conestoga,\" \"Mound City\" and \"St. Louis\". Union loss, 30 killed, 105 wounded. Total, 135.\n",
      "Arkansas/1862-06-17-skirmish-smithville ILLINOIS--5th Cavalry (Cos. \"D,\" \"F,\" \"L\"). Union loss, 2 killed, 4 wounded. Total, 6.\n",
      "Arkansas/1862-07-15-action-near-fayetteville ILLINOIS--10th Cavalry; Battery \"A,\" 2nd Light Artillery (Section). MISSOURI--3rd and 14th State Militia Cavalry. WISCONSIN--2nd Cavalry. Union loss, 150 killed, wounded and missing.\n",
      "Arkansas/1862-07-24-1862-07-26-expedition-from-helena-to-marianna KANSAS--5th Cavalry (Co. \"C\"). MISSOURI--1st Infantry, Reserve Corps.\n",
      "Arkansas/1862-08-28-1862-09-03-expedition-from-helena-to-eunice IOWA--1st Battery Light Artillery (Section). OHIO--56th Infantry.\n",
      "Arkansas/1862-09-23-skirmish-mcguire-s-ferry MISSOURI--7th State Militia Cavalry.\n",
      "Arkansas/1862-10-17-skirmish-mountain-home MISSOURI--14th State Militia Cavalry (Detachment).\n",
      "Arkansas/1862-10-24-skirmish-fayetteville MISSOURI--7th State Militia Cavalry.\n",
      "Arkansas/1862-10-27-action-pittman-s-ferry IOWA--23rd Infantry (3 Cos.). MISSOURI--12th State Militia Cavalry (Detachment); Sturgis' Battery Light Artillery (Section); 1st State Militia Infantry (2 Cos.), 24th (3 Cos.) and 25th (5 Cos.) Infantry.\n",
      "Arkansas/1862-10-27-1862-10-28-actions-oxford-bend-near-fayetteville-white-river-and-mcguire-s IOWA--1st Cavalry. MISSOURI--4th and 7th State Militia Cavalry. Union loss, 1 killed, 4 wounded.\n",
      "Arkansas/1862-11-07-skirmish-rhea-s-mills KANSAS--3rd Indian Home Guard. Union loss, 3 killed, 3 wounded. Total, 6.\n",
      "Arkansas/1862-11-09-skirmish-between-fayetteville-and-cane-hill KANSAS--2nd Cavalry; 1st Indian Home Guard. INDIANA--2nd Independent Battery Light Artillery\n",
      "Arkansas/1862-11-25-skirmish-camp-babcock KANSAS--1st and 3rd Indian Home Guard. Union loss, 1 killed, 1 wounded. Total, 2.\n",
      "Arkansas/1862-11-28-engagement-cane-hill-boston-mountains-boonsboro ARKANSAS--1st Cavalry. INDIANA--2nd Battery Light Artillery KANSAS--6th, 9th and 11th Cavalry; 2nd Cavalry Battery Light Artillery; 1st and 3rd Independent Batteries Light Artillery; 10th and 13th Infantry; 1st, 2nd and 3rd Indian Home Guard. OHIO--25th Independent Battery Light Artillery WISCONSIN--3rd Cavalry; 9th Infantry. Union loss, 9 killed, 32 wounded, 1 missing. Total, 42.\n",
      "Arkansas/1862-12-01-1862-12-31-capture-fort-davis INDIANA--2nd Battery Light Artillery KANSAS--1st, 2nd and 3rd Indian Home Guard.\n",
      "Arkansas/1862-12-04-1862-12-06-operations-about-cane-hill KANSAS--2nd and 11th Cavalry; 1st Indian Home Guard.\n",
      "Arkansas/1862-12-06-skirmish-reed-s-mountains KANSAS--2nd and 11th Cavalry; 1st Indian Home Guard. Union loss, 2 killed, 5 wounded. Total, 7.\n",
      "Arkansas/1862-12-07-battle-of-prairie-grove-fayetteville-or-illinois-creek ILLINOIS--10th Cavalry; Battery \"A,\" 2nd Light Artillery (Section); 37th and 94th Infantry. INDIANA--26th Infantry. IOWA--1st Cavalry; 19th and 20th Infantry. KANSAS--2nd, 6th and 9th Cavalry; 1st and 3rd Independent Batteries Light Artillery; 10th, 11th and 13th Infantry; 1st, 2nd and 3rd Indian Home Guard. MISSOURI--1st (Cos. \"H,\" \"I,\" \"L\"), 6th, 7th and 8th Cavalry; 14th State Militia Cavalry; Batteries \"E,\" \"F\" and \"L,\" 1st Light Artillery OHIO--25th Independent Battery Light Artillery WISCONSIN--2nd and 3rd Cavalry; 9th and 20th Infantry. Union loss, 175 killed, 813 wounded, 263 captured and missing. Total, 1,251.\n",
      "Arkansas/1862-12-20-skirmish-cane-hill KANSAS--3rd Indian Home Guard.\n",
      "Arkansas/1862-12-23-skirmish-st-francis-road-near-helena Picket affair. Union loss, 2 killed, 16 wounded. Total, 18.\n",
      "Arkansas/1862-12-27-1862-12-29-expedition-over-boston-mountains ILLINOIS--10th Cavalry; Battery \"A,\" 2nd Light Artillery (Section); 37th and 94th Infantry. INDIANA--26th Infantry. IOWA--1st Cavalry; 19th and 20th Infantry. KANSAS--2nd, 6th and 9th Cavalry; 1st and 3rd Independent Batteries Light Artillery; 10th, 11th and 13th Infantry; 1st and 3rd Indian Home Guard. MISSOURI--1st (Cos. \"H,\" \"I,\" \"L\"), 6th, 7th and 8th Cavalry; 14th State Militia Cavalry; Batteries \"E,\" \"F\" and \"L,\" 1st Light Artillery OHIO--25th Independent Battery Light Artillery WISCONSIN--2nd and 3rd Cavalry; 9th and 20th Infantry.\n",
      "Arkansas/1863-01-02-skirmish-white-springs Irregulars.\n",
      "Arkansas/1863-01-04-1863-01-11-expedition-against-arkansas-post ILLINOIS--3rd Cavalry; Thielman's Cavalry Battalion; Kane County Cavalry Company, Batteries \"A\" and \"B\" and \"H\" 1st Light Artillery; Chicago Mercantile Battery Light Artillery; 13th, 55th, 77th, 97th, 108th, 113th, 116th, 118th 127th and 131st Infantry. INDIANA--4th Cavalry (Co. \"C\"); 16th, 49th, 54th, 60th, 67th, 69th, 83rd and 89th Infantry. IOWA--1st Battery Light Artillery; 4th, 9th, 25th, 26th, 30th, 31st and 34th Infantry. KENTUCKY--7th, 19th and 22nd Infantry. MICHIGAN--Battery \"G\" 1st Light Artillery MISSOURI--10th Cavalry (Co. \"C\"); Landgraeber's Battery Flying Artillery; 3rd, 6th, 8th, 12th, 17th, 29th, 30th, 31st and 32nd Infantry. OHIO--4th, 8th and 17th Independent Batteries Light Artillery; 16th 42nd, 48th, 54th, 57th, 76th, 83rd, 96th, 114th and 120th Infantry. WISCONSIN--1st Battery Light Artillery; 23rd Infantry; UNITED STATES--13th Infantry.\n",
      "Arkansas/1863-01-10-1863-01-11-engagement-and-capture-fort-hindman-arkansas-post ILLINOIS--3rd Cavalry; Thielman's Cavalry Battalion; Kane County Cavalry Company, Batteries \"A,\" \"B\" and \"H\" 1st Light Artillery; Chicago Mercantile Battery Light Artillery; 13th, 55th, 77th, 97th, 108th, 113th, 116th, 118th, 127th and 131st Infantry INDIANA--4th Cavalry (Co. \"C\"); 16th, 49th, 54th, 60th, 67th, 69th, 83rd and 89th Infantry. IOWA--1st Battery Light Artillery; 4th 9th, 25th, 26th, 30th, 31st and 34th Infantry. KENTUCKY--7th, 19th, and 22nd Infantry. MICHIGAN--Battery \"G\" 1st Light Artillery MISSOURI--10th Cavalry (Co. \"C\"); Landgraeber's Battery Flying Artillery; 3rd, 6th, 8th, 12th, 17th, 29th, 30th, 31st and 32nd Infantry. OHIO--4th, 8th and 17th Independent Batteries Light Artillery; 16th, 42nd, 48th, 54th, 57th, 76th, 83rd, 96th, 114th, and 120th infantry. WISCONSIN--1st Battery Light Artillery; 23rd Infantry. UNITED STATES--13th Infantry. Union loss, 134 killed, 898 wounded, 29 missing and captured. Total, 1061.\n",
      "Arkansas/1863-01-13-reconnaissance-to-white-river-and-st-charles ILLINOIS--3rd Cavalry (2 Cos.); Kane Co. Cavalry Company. INDIANA--4th Cavalry (Co. \"C\"). MISSOURI--6th Cavalry (Squadron). OHIO--2nd Independent Battery Light Artillery\n",
      "Arkansas/1863-01-13-1863-01-19-expedition-from-helena-up-white-river INDIANA--11th, 24th and 34th Infantry. U. S. Gunboat \"DeKalb\". Capture of Saint Charles, Clarendon, Devall's Bluff and Des Arc.\n",
      "Arkansas/1863-01-01-1863-01-31-skirmish-near-maysville KANSAS--3rd Indian Home Guard.\n",
      "Arkansas/1863-01-16-skirmish-devall-s-bluff-des-arc INDIANA--24th Infantry; U. S. Gunboat \"DeKalb\".\n",
      "Arkansas/1863-02-02-1863-02-03-skirmishes-vine-prairie-and-mouth-of-mulberry-river ARKANSAS--1st Cavalry (Detachments). Union loss, 3 killed, 2 wounded, 1 missing. Total, 6.\n",
      "Arkansas/1863-02-19-burning-of-hopewell ILLINOIS--63rd Infantry (Cos. \"C,\" \"D,\" \"E,\" \"F\").\n",
      "Arkansas/1863-02-20-skirmish-bentonville KANSAS--1st Indian Home Guard.\n",
      "Arkansas/1863-02-24-1863-04-08-expedition-from-helena-to-yazoo-pass-by-moon-lake-yazoo-pass-and-coldwater-and-tallahatchie-rivers ILLINOIS--2nd Cavalry (Co. \"E\"); 56th, 73rd and 93rd Infantry. INDIANA--43rd, 46th, 47th, 48th and 59th Infantry. IOWA--3rd Battery Light Artillery; 5th, 10th, 17th, 24th, 28th, 29th, 33rd, and 36th Infantry. MINNESOTA--4th Infantry. MISSOURI--5th Cavalry (Co. \"C\"); Batteries \"A\" and \"M\" 1st Light Artillery; 10th, 12th, 17th, 24th, 26th and 33rd Infantry. OHIO--11th Independent Battery Light Artillery; 80th Infantry. WISCONSIN--6th and 12th Batteries Light Artillery; 28th Infantry; U. S. Gunboats \"Chillicothe\" and \"DeKalb\".\n",
      "Arkansas/1863-03-09-skirmish-chalk-bluff MISSOURI--2nd State Militia Cavalry.\n",
      "Arkansas/1863-03-15-skirmish-chalk-bluff MISSOURI--2nd State Militia Cavalry.\n",
      "Arkansas/1863-03-29-1863-04-05-scouts-from-fayetteville ARKANSAS--1st Cavalry (Detachments).\n",
      "Arkansas/1863-04-01-skirmish-chalk-bluff MISSOURI--2nd State Militia Cavalry. Loss, 25 missing.\n",
      "Arkansas/1863-04-04-skirmish-carroll-county ARKANSAS--1st Cavalry (Cos. \"H,\" \"L\"). Loss, 1 wounded.\n",
      "Arkansas/1863-05-01-skirmish-chalk-bluff MISSOURI--3rd Cavalry; 2nd State Militia Cavalry.\n",
      "Arkansas/1863-05-15-skirmish-fort-smith KANSAS--3rd Indian Home Guard.\n",
      "Arkansas/1863-05-25-skirmish-polk-s-plantation-near-helena IOWA--3rd Cavalry (Cos. \"A,\" \"B\"). Union loss, 5 wounded, 2 missing. Total, 7.\n",
      "Arkansas/1863-06-16-skirmish-grand-lake MISSOURI--1st Infantry; Miss. Marine Brigade.\n",
      "Arkansas/1863-08-01-1863-09-14-expedition-against-little-rock-steele-s ILLINOIS--3rd (Co. \"D\"); 10th, 12th, and 13th Cavalry; Kane Co. Cavalry Company; Vaughan's Independent Battery Light Artillery; 18th, 43rd, 49th, 54th, 61st, 62nd, 106th and 126th Infantry. INDIANA--1st Cavalry; 43rd and 50th Infantry. IOWA--1st and 3rd Cavalry; 3rd Battery Light Artillery; 27th, 29th, 32nd, 33rd, 36th and 40th Infantry. KANSAS--5th Cavalry. MICHIGAN--12th Infantry. MINNESOTA--3rd Infantry. MISSOURI--1st, 2nd, 3rd, 7th and 8th Cavalry; Battery \"K\" 1st Light Artillery; Batteries \"K\" and \"M\" 2nd Light Artillery OHIO--5th, 11th, and 25th Independent Batteries Light Artillery; 22nd and 77th Infantry. WISCONSIN--27th and 28th Infantry.\n",
      "Arkansas/1863-08-03-1863-08-16-expedition-up-white-and-little-red-rivers IOWA--32nd Infantry (Cos. \"A,\" \"D,\" \"F,\" \"G\"); U. S. Gunboats \"Lexington,\" \"Cricket\" and \"Marmora\".\n",
      "Arkansas/1863-08-14-engagement-west-point-white-river IOWA--32nd Infantry (Cos. \"A,\" \"D,\" \"F,\" \"G\"); U. S. Gunboats \"Lexington\" \"Cricket\" and \"Marmora\". Union loss, 2 killed, 7 wounded. Total, 9.\n",
      "Arkansas/1863-08-16-skirmish-harrison-s-landing ILLINOIS--13th Cavalry. IOWA--32nd Infantry (Cos. \"A,\" \"D,\" \"F,\" \"G\").\n",
      "Arkansas/1863-08-22-1863-08-23-actions-pocahontas ARKANSAS--2nd Cavalry. MISSOURI--2nd State Militia Cavalry.\n",
      "Arkansas/1863-08-26-skirmish-near-bayou-metoe IOWA--1st Cavalry; 3rd Battery Light Artillery MISSOURI--Clarkson's Battery \"K\"; 2nd Light Artillery; 2nd Cavalry; Lovejoy's 2nd Cavalry Howitzer Battery. Union loss, 1 killed.\n",
      "Arkansas/1863-08-27-action-bayou-metoe-or-reed-s-bridge ILLINOIS--10th and 13th Cavalry. IOWA--1st and 3rd Cavalry; 32nd Infantry (Cos. \"A,\" \"D,\" \"F,\" \"G\"). MISSOURI--2nd, 3rd and 8th Cavalry; Clarkson's Battery \"K\" 2nd Light Artillery; Lovejoy's 2nd Cavalry Howitzer Battery. Union loss. 7 killed, 38 wounded. Total, 45.\n",
      "Arkansas/1863-08-29-reconnaissance-from-brownsville MISSOURI--2nd and 8th Cavalry; Lovejoy's 2nd Cavalry Howitzer Battery.\n",
      "Arkansas/1863-08-30-skirmish-shallow-ford-bayou-metoe ILLINOIS--13th Cavalry. IOWA--3rd Cavalry; 32nd Infantry (Cos. \"A,\" \"D\". \"F\". \"G\"). MISSOURI--1st Cavalry; Battery \"M\" 2nd Light Artillery Union loss, 5 missing.\n",
      "Arkansas/1863-08-31-capture-of-fort-smith MISSOURI--6th and 8th State Militia Cavalry.\n",
      "Arkansas/1863-09-01-action-devil-s-back-bone-back-bone-mountain-fort-smith ARKANSAS--1st Infantry. INDIANA--2nd Independent Battery Light Artillery KANSAS--2nd Cavalry. MISSOURI--6th Cavalry; 8th State Militia Cavalry. Union loss, 4 killed, 12 wounded. Total, 16.\n",
      "Arkansas/1863-09-01-skirmish-cotton-gap MISSOURI--8th State Militia Cavalry.\n",
      "Arkansas/1863-09-07-1863-09-30-expedition-to-big-lake-miss-co MISSOURI--2nd and 6th State Militia Cavalry (Detachments); 8th Provisional Enrolled Militia (Detachment).\n",
      "Arkansas/1863-09-10-engagement-bayou-fourche-and-capture-of-little-rock ILLINOIS--3rd (Co. \"D\"); 10th, 12th and 13th Cavalry; Kane County Cavalry Co.; Vaughan's Independent Battery Light Artillery; 18th, 43rd, 49th, 54th, 61st 62nd, 106th and 126th Infantry. INDIANA--1st Cavalry; 43rd and 50th Infantry. IOWA--1st and 3rd Cavalry; 3rd Battery Light Artillery; 27th, 29th, 32nd, 33rd, 36th, and 40th Infantry. KANSAS--5th Cavalry. MICHIGAN--12th Infantry. MINNESOTA--3rd Infantry. MISSOURI--1st, 2nd, 3rd, 7th and 8th Cavalry; Lovejoy's 2nd Cavalry Howitzer Batty.; Clarkson's Battery \"K\". 2nd Light Artillery; Battery \"K\" 1st Light Artillery; Battery \"M\" 2nd Light Artillery OHIO--5th, 11th and 25th Independent Batteries Light Artillery; 22nd and 77th Infantry. WISCONSIN--27th and 28th Infantry. Union loss, 7 killed, 64 wounded, 1 missing. Total, 72.\n",
      "Arkansas/1863-09-11-1863-09-13-pursuit-of-price ILLINOIS--10th and 13th Cavalry. INDIANA--1st Cavalry. MISSOURI--2nd, 7th and 8th Cavalry; Clarkson's Battery \"K,\" 2nd Light Artillery; Lovejoy's 2nd Cavalry Howitzer Battery.\n",
      "Arkansas/1863-09-11-skirmish-near-little-rock ILLINOIS--10th and 13th Cavalry. INDIANA--1st Cavalry. MISSOURI--2nd, 7th and 8th Cavalry; Clarkson's Battery \"K,\" 2nd Light Artillery; Lovejoy's 2nd Cavalry Howitzer Battery. Union loss, 1 wounded.\n",
      "Arkansas/1863-10-24-skirmish-buffalo-mountain ARKANSAS--1st Cavalry. MISSOURI--6th and 8th State Militia Cavalry.\n",
      "Arkansas/1863-11-19-skirmish-degreen-s-farm-near-lawrenceville MISSOURI--8th State Militia Cavalry (Detachment).\n",
      "Arkansas/1863-12-02-1863-12-07-scout-from-waldron-to-mount-ida-caddo-gap-and-dallas ARKANSAS--1st Infantry (Co. \"C\"). INDIANA--2nd Independent Battery Light Artillery (Section). KANSAS--2nd Cavalry.\n",
      "Arkansas/1863-12-05-1863-12-13-reconnaissance-from-little-rock IOWA--1st and 3rd Cavalry. MISSOURI--1st, 3rd (1st Battalion) and 7th Cavalry. OHIO--25th Independent Battery Light Artillery\n",
      "Arkansas/1863-12-13-skirmish-merriweather-ferry-bayou-boeuf ILLINOIS--4th Cavalry. UNITED STATES--3rd Colored Cavalry.\n",
      "Arkansas/1863-12-14-skirmish-caddo-mill KANSAS--2nd Cavalry (Cos. \"G,\" \"K\").\n",
      "Arkansas/1863-12-26-1864-01-02-scout-from-forsythe-to-batesville MISSOURI--8th State Militia Cavalry (Detachment).\n",
      "Arkansas/1864-01-01-1864-01-30-operations-in-northeastern-ark ARKANSAS--4th Infantry. MISSOURI--11th Cavalry; 6th State Militia Cavalry. NEBRASKA--1st Cavalry.\n",
      "Arkansas/1864-01-16-1864-02-15-operations-in-northwestern-arkansas ARKANSAS--1st and 2nd Cavalry. MISSOURI--11th Cavalry; 6th and 8th State Militia Cavalry; Battery \"L,\" 1st Light Artillery\n",
      "Arkansas/1864-01-22-skirmishes-clear-green-and-tomahawk ARKANSAS--1st and 2nd Cavalry. MISSOURI--8th State Militia Cavalry.\n",
      "Arkansas/1864-01-23-skirmish-rolling-prairie MISSOURI--11th Cavalry (Detachment Co. \"B\"). Union loss, 12 killed, 2 wounded. Total, 14.\n",
      "Arkansas/1864-01-23-skirmish-sylamore-creek MISSOURI--6th State Militia Cavalry (Detachment). NEBRASKA--1st Cavalry (Detachment). Union loss, 1 wounded.\n",
      "Arkansas/1864-01-23-skirmishes-near-burrowsville ARKANSAS--1st and 2nd Cavalry. MISSOURI--8th State Militia Cavalry.\n",
      "Arkansas/1864-01-24-skirmish-sylamore MISSOURI--6th State Militia Cavalry (Detachment). NEBRASKA--1st Cavalry (Detachment).\n",
      "Arkansas/1864-02-04-skirmish-rolling-prairie MISSOURI--8th State Militia Cavalry.\n",
      "Arkansas/1864-02-10-skirmish-lake-village MISSOURI--1st Infantry, Miss. Marine Brigade.\n",
      "Arkansas/1864-02-14-skirmish-scott-s-farm-washita-cove (No Reports).\n",
      "Arkansas/1864-02-14-skirmish-ross-landing-grand-lake MISSISSIPPI--1st Colored Infantry (51st U. S. C. T.). Union loss, 13 killed, 7 wounded. Total, 20.\n",
      "Arkansas/1864-02-17-skirmish-horse-head-creek UNITED STATES--79th U. S. C. T. Infantry.\n",
      "Arkansas/1864-02-22-skirmish-luna-landing MISSOURI--Miss. Marine Brigade. Union loss, 5 wounded.\n",
      "Arkansas/1864-03-01-1864-03-31-skirmish-little-rock KENTUCKY.--Battery \"C,\" Light Artillery\n",
      "Arkansas/1864-03-01-skirmish-near-buffalo-city MISSOURI--6th State Militia Cavalry (Detachment).\n",
      "Arkansas/1864-03-02-skirmish-bennett-s-bayou MISSOURI--6th State Militia Cavalry (Detachment).\n",
      "Arkansas/1864-03-13-1864-03-26-scouts-from-yellville-to-buffalo-river ARKANSAS--2nd Cavalry (Detachment). MISSOURI--6th State Militia Cavalry (Detachment); 6th Enrolled Provisional Militia (Detachment).\n",
      "Arkansas/1864-03-23-1864-05-03-expedition-from-little-rock-to-camden-steele-s ARKANSAS--3rd Cavalry; 1st Battery Light Artillery; 1st and 2nd Infantry. ILLINOIS--10th and 13th (Co. \"B\") Cavalry; Vaughan's Independent Battery Light Artillery; 18th and 43rd Infantry. INDIANA--1st Cavalry; 2nd Independent Battery Light Artillery; 43rd and 50th Infantry. IOWA--1st Cavalry; 18th, 29th, 33rd, 36th and 40th Infantry. KANSAS--2nd, 5th, 6th and 14th Cavalry; 12th Infantry; 1st and 2nd Colored Infantry. MISSOURI--1st, 2nd, 3rd and 7th Cavalry; Battery \"E,\" 2nd Light Artillery OHIO--77th Infantry. WISCONSIN--Battery (Co. \"F,\" 9th Infantry) Light Artillery; 9th, 27th and 28th Infantry.\n",
      "Arkansas/1864-03-27-scout-to-berryville MISSOURI--7th State Militia Cavalry (Co. \"A\").\n",
      "Arkansas/1864-03-27-1864-03-31-expedition-from-pine-bluff-to-mount-elba-and-longview ILLINOIS--18th Infantry. INDIANA--1st Cavalry. KANSAS--5th Cavalry. MISSOURI--7th Cavalry. WISCONSIN--28th Infantry (Cos. \"A,\" \"D,\" \"F,\" \"G,\" \"H,\" \"I\").\n",
      "Arkansas/1864-04-01-action-fitzhugh-s-woods-near-augusta MINNESOTA--3rd Infantry (Cos. \"B,\" \"C,\" \"E,\" \"G,\" \"H\" and \"I\"). MISSOURI--8th Cavalry (Detachment). Union loss, 8 killed, 16 wounded, 5 missing. Total, 29.\n",
      "Arkansas/1864-04-02-action-antoine-or-terre-noir-creek IOWA--29th and 33rd Infantry. INDIANA--50th Infantry. WISCONSIN--9th Infantry; Voegle's Battery (Co. \"F,\" 9th Infantry). Union loss, 10 killed, 33 wounded. Total. 43.\n",
      "Arkansas/1864-04-02-1864-04-03-skirmishes-okalona ARKANSAS--3rd Cavalry. ILLINOIS--Vaughan's Independent Battery Light Artillery; 43rd Infantry. IOWA--3rd Cavalry; 40th Infantry. MISSOURI--2nd Cavalry. OHIO--77th Infantry. WISCONSIN--27th Infantry. Union loss, 16 killed, 74 wounded. Total, 90.\n",
      "Arkansas/1864-04-05-skirmish-stone-s-farm KANSAS--6th Cavalry (26 men). Union loss, 11 killed.\n",
      "Arkansas/1864-04-06-1864-04-07-skirmishes-in-swamps-of-little-river-near-osceola MISSOURI--1st Cavalry (Cos. \"G,\" \"K\" and \"M\"). Loss, 3 wounded.\n",
      "Arkansas/1864-04-09-1864-04-12-actions-prairie-d-ann ILLINOIS--10th and 13th Cavalry; Vaughan Battery Light Artillery; 43rd Infantry. INDIANA--2nd Independent Battery Light Artillery; 43rd and 50th Infantry. IOWA--1st Cavalry; 18th, 29th, 33rd, 36th and 40th Infantry. KANSAS--2nd, 6th and 14th Cavalry; 12th Infantry; 1st, and 2nd Colored Infantry. MISSOURI--1st, 2nd and 3rd Cavalry. Battery \"E\" 2nd Light Artillery OHIO--77th Infantry. WISCONSIN--Voegle's Battery (Co. \"F,\" 9th Infantry); 9th and 27th Infantry. ARKANSAS--1st Battery Light Artillery; 1st and 2nd Infantry. Union loss, 20 killed, 42 wounded. Total, 62.\n",
      "Arkansas/1864-04-11-skirmish-richland-creek (No Reports on file.)\n",
      "Arkansas/1864-04-13-1864-04-14-skirmishes-richland-creek MISSOURI--6th State Militia Cavalry (Detachment).\n",
      "Arkansas/1864-04-18-engagement-poison-springs INDIANA--2nd Independent Battery Light Artillery, (Section). IOWA--18th Infantry. KANSAS--2nd, 6th and 14th Cavalry; 1st Colored Infantry. Union loss, 92 killed, 97 wounded, 106 captured and missing. Total, 295.\n",
      "Arkansas/1864-04-25-1864-04-26-skirmishes-moro-bottom IOWA--1st Cavalry; 33rd and 40th Infantry--MISSOURI--2nd Cavalry. Union loss, 5 killed, 14 wounded, 20 missing. Total, 39.\n",
      "Arkansas/1864-04-28-skirmish-near-princeton ILLINOIS--Vaughan's Battery Light Artillery; 43rd Infantry. IOWA--40th Infantry. KANSAS--6th Cavalry.\n",
      "Arkansas/1864-04-29-skirmish-saline-bottom ILLINOIS--Vaughan's Battery Light Artillery; 43rd Infantry. IOWA--33rd Infantry.\n",
      "Arkansas/1864-04-30-engagement-jenkin-s-ferry-saline-river ILLINOIS--13th Cavalry; Vaughan's Battery Light Artillery; 43rd Infantry. INDIANA--2nd Independent Battery Light Artillery; 43rd and 50th Infantry. IOWA--1st Cavalry; 18th, 29th, 33rd, 36th and 40th Infantry. KANSAS--2nd, 6th and 14th Cavalry; 12th Infantry; 1st and 2nd Colored Infantry. MISSOURI--1st and 2nd Cavalry. OHIO--77th Infantry. WISCONSIN--9th and 27th Infantry. Union loss, 64 killed, 378 wounded, 86 captured and missing. Total, 528.\n",
      "Arkansas/1864-05-08-skirmish-cherokee-bay MISSOURI--3rd State Militia Cavalry (Co. \"A\").\n",
      "Arkansas/1864-05-08-skirmish-near-maysville KANSAS--3rd Indian Home Guard. Union loss, 2 wounded.\n",
      "Arkansas/1864-05-09-skirmish-eudora-church MISSOURI--1st Infantry, Miss. Marine Brigade.\n",
      "Arkansas/1864-05-13-skirmish-spavinaw MISSOURI--8th State Militia Cavalry (Detachment).\n",
      "Arkansas/1864-05-24-1864-06-04-operations-green-s-on-west-side-of-miss-river Confederate Reports.\n",
      "Arkansas/1864-05-27-skirmish-leland-s-point MISSOURI--1st Infantry, Miss. Marine Brigade.\n",
      "Arkansas/1864-06-02-skirmish-columbia MISSOURI--1st Infantry, Miss. Marine Brigade.\n",
      "Arkansas/1864-06-05-skirmish-worthington-s-and-sunnyside-landings-fish-bayou MISSOURI--1st Battalion Cavalry, Miss. Marine Brigade. WISCONSIN--2nd Cavalry.\n",
      "Arkansas/1864-06-06-engagement-old-river-lake-or-lake-chicot-also-known-as-ditch-bayou-fish-bayou-grand-lake-and-grand-village ILLINOIS--47th, 49th, 58th and 117th Infantry. INDIANA--3rd Independent Battery Light Artillery; 89th Infantry. IOWA--14th, 27th, 32nd and 35th Infantry. MINNESOTA--5th Infantry. NEW YORK--178th Infantry. MISSOURI--1st Battalion Cavalry, Miss. Marine Brigade; 24th and 33rd Infantry. WISCONSIN--2nd Cavalry; 8th Infantry. Union loss, 40 killed, 70 wounded. Total, 110.\n",
      "Arkansas/1864-06-07-skirmish-sunnyside-landing MISSOURI--1st Infantry, Miss. Marine Brigade.\n",
      "Arkansas/1864-06-20-1864-06-23-scouts-from-lewisburg ARKANSAS--3rd Cavalry (Detachments).\n",
      "Arkansas/1864-06-22-skirmish-white-river-station IOWA--12th Infantry (Detachment). U. S. Gunboat \"Lexington\". Union loss, 1 killed, 4 wounded. Total, 5.\n",
      "Arkansas/1864-06-24-engagement-white-river U. S. Steamer \"Queen City\" and Gunboats. Union loss, 40 wounded.\n",
      "Arkansas/1864-06-29-operations-in-arkansas ARKANSAS--1st, 3rd and 4th Cavalry. ILLINOIS--10th and 15th Cavalry. KANSAS--6th and 9th Cavalry. UNITED STATES--Battery \"E,\" 2nd Colored Artillery; 56th and 60th Infantry.\n",
      "Arkansas/1864-07-13-expedition-from-helena-to-buck-island-miss-river ILLINOIS--15th Cavalry (Detachment). MINNESOTA--6th Infantry (Cos. \"E,\" \"F\").\n",
      "Arkansas/1864-07-19-1864-07-25-operations-white-river Gordon's Command, 19th Corps and Bailey's Brigade.\n",
      "Arkansas/1864-07-25-affair-benton MISSOURI--3rd Cavalry (Detachment Co. \"C\").\n",
      "Arkansas/1864-07-26-action-wallace-s-ferry-big-creek ILLINOIS--15th Cavalry, UNITED STATES--2nd Colored Cavalry (Co. \"E\"); 56th and 60th Infantry. Union loss, 20 killed, 40 wounded, 4 missing. Total, 64.\n",
      "Arkansas/1864-07-26-1864-07-28-scout-to-searcy-and-west-point MISSOURI--11th State Militia Cavalry (Detachment).\n",
      "Arkansas/1864-07-28-skirmish-west-point MISSOURI--11th State Militia Cavalry (Detachment). Union loss, 2 wounded, 10 missing. Total, 12.\n",
      "Arkansas/1864-07-28-skirmish-scatterville MISSOURI--2nd and 3rd Cavalry (Detachments); 2nd and 3rd State Militia Cavalry (Detachments).\n",
      "Arkansas/1864-07-30-skirmish-hay-station-no-3-near-brownsville MISSOURI--11th State Militia Cavalry (Detachment).\n",
      "Arkansas/1864-08-01-1864-08-05-operations-in-eastern-arkansas ILLINOIS--15th Cavalry (Co. \"E\"). MINNESOTA--6th Infantry. MISSOURI--35th Infantry. UNITED STATES--Battery \"E,\" 2nd Colored Light Artillery\n",
      "Arkansas/1864-08-02-action-osceola MISSOURI--1st and 6th Cavalry; 2nd and 3rd State Militia Cavalry.\n",
      "Arkansas/1864-08-05-skirmish-west-point MISSOURI--11th State Militia Cavalry.\n",
      "Arkansas/1864-08-11-1864-08-13-expedition-from-helena-to-kent-s-landing UNITED STATES--Battery \"C,\" 2nd Colored Light Artillery (Detachment); 60th Colored Infantry (Detachment).\n",
      "Arkansas/1864-08-15-skirmish-carrollton ARKANSAS--Halsey's Co. Militia. Union loss, 1 killed.\n",
      "Arkansas/1864-08-17-affair-near-pine-bluff-arkansas-river Capture of Steamer \"Miller\".\n",
      "Arkansas/1864-08-24-skirmish-mud-town ARKANSAS--2nd Cavalry (Detachment). Attack on train. Union loss, 1 killed.\n",
      "Arkansas/1864-08-28-skirmish-fayetteville MISSOURI--8th State Militia Cavalry.\n",
      "Arkansas/1864-08-29-1864-09-03-expedition-from-helena-up-white-river ILLINOIS--15th Cavalry (Detachment). UNITED STATES--Battery \"E,\" 2nd Colored Light Artillery; 56th and 60th Colored Infantry.\n",
      "Arkansas/1864-09-09-affair-near-clarendon Attack on Steamer \"J. D. Perry\".\n",
      "Arkansas/1864-09-10-skirmish-near-monticello ILLINOIS--10th Cavalry. INDIANA--1st Cavalry. KANSAS--5th Cavalry. MISSOURI--7th Cavalry (Detachments).\n",
      "Arkansas/1864-09-11-skirmish-brewer-s-lane ILLINOIS--10th Cavalry. INDIANA--1st Cavalry. KANSAS--5th Cavalry. MISSOURI--7th Cavalry (Detachments). Union loss, 1 killed, 8 wounded, 2 missing. Total, 11.\n",
      "Arkansas/1864-09-25-1864-10-13-expedition-from-little-rock-to-fort-smith ARKANSAS--3rd and 4th Cavalry. IOWA--1st Cavalry; 3rd Battery Light Artillery MISSOURI--3rd Cavalry. WISCONSIN--3rd Cavalry. UNITED STATES--3rd Cavalry (Detachments).\n",
      "Arkansas/1864-10-11-affair-near-clarendon-on-white-river Attack on Steamer \"Resolute\".\n",
      "Arkansas/1864-11-06-skirmish-cane-hill MISSOURI--8th State Militia Cavalry.\n",
      "Arkansas/1864-11-17-1864-11-18-expedition-from-little-rock-to-saline-river IOWA--1st Cavalry. MISSOURI--1st and 3rd Cavalry. UNITED STATES--3rd Cavalry (Detachments).\n",
      "Arkansas/1864-11-20-skirmish-buck-skull MISSOURI--2nd State Militia Cavalry.\n",
      "Arkansas/1864-12-01-1864-12-05-expedition-from-helena-to-friar-s-point-miss ILLINOIS--15th Cavalry (Detachment of Co. \"I\").\n",
      "Arkansas/1864-12-07-1864-12-13-expedition-from-brownsville-to-arkansas-post MICHIGAN--3rd Cavalry (Cos. \"A,\" \"H,\" \"K,\" \"L,\" \"M\").\n",
      "Arkansas/1864-12-16-skirmish-near-dudley-s-lake MICHIGAN--3rd Cavalry (Cos. \"F,\" \"E,\" \"G\").\n",
      "Arkansas/1865-01-07-skirmish-johnson-county (No Report.)\n",
      "Arkansas/1865-01-07-1865-01-09-expedition-from-pine-bluff ILLINOIS--13th Cavalry. MISSOURI--7th Cavalry (Detachments).\n",
      "Arkansas/1865-01-12-affair-near-sugar-loaf-prairie MISSOURI--45th Enrolled Militia.\n",
      "Arkansas/1865-01-17-skirmish-ivey-s-ford U. S. Transports and Detachments from various Regiments.\n",
      "Arkansas/1865-01-20-1865-01-21-skirmishes-marion ILLINOIS--11th Cavalry. INDIANA--7th Cavalry. WISCONSIN--2nd Cavalry (Detachments). Union loss, 1 wounded.\n",
      "Arkansas/1865-01-22-affair-benton-road-near-little-rock Attack on pickets. Union loss, 3 wounded, 3 missing. Total, 6.\n",
      "Arkansas/1865-01-22-1865-02-04-expedition-from-little-rock-to-mt-elba-and-skirmish-at-saline-river ARKANSAS--1st Colored Battery Light Artillery ILLINOIS--13th Cavalry; 43rd, 106th and 126th Infantry. INDIANA--50th Infantry. IOWA--1st Cavalry; 33rd Infantry. MISSOURI--1st Cavalry. OHIO--25th Independent Battery Light Artillery WISCONSIN--28th Infantry.\n",
      "Arkansas/1865-01-24-1865-02-22-expedition-to-eleven-points-river MISSOURI--2nd State Militia Cavalry.\n",
      "Arkansas/1865-04-23-skirmish-on-snake-river KANSAS--3rd Indian Home Guard (Detachment).\n"
     ]
    }
   ],
   "source": [
    "from arpeggio import NoMatch\n",
    "parser = ParserPython(troops_engaged)\n",
    "for engagement in dyer[\"Arkansas\"]:\n",
    "    try:\n",
    "        text = engagement['troops_engaged']\n",
    "    except KeyError:\n",
    "        continue\n",
    "    try:\n",
    "        parser.parse(text)\n",
    "    except NoMatch:\n",
    "        print(engagement['slug'], text)\n",
    "    "
   ]
  },
  {
   "cell_type": "code",
   "execution_count": null,
   "metadata": {
    "collapsed": true
   },
   "outputs": [],
   "source": []
  },
  {
   "cell_type": "code",
   "execution_count": null,
   "metadata": {
    "collapsed": true
   },
   "outputs": [],
   "source": []
  },
  {
   "cell_type": "code",
   "execution_count": null,
   "metadata": {
    "collapsed": true
   },
   "outputs": [],
   "source": []
  },
  {
   "cell_type": "code",
   "execution_count": null,
   "metadata": {
    "collapsed": true
   },
   "outputs": [],
   "source": []
  }
 ],
 "metadata": {
  "kernelspec": {
   "display_name": "Python 3",
   "language": "python",
   "name": "python3"
  },
  "language_info": {
   "codemirror_mode": {
    "name": "ipython",
    "version": 3
   },
   "file_extension": ".py",
   "mimetype": "text/x-python",
   "name": "python",
   "nbconvert_exporter": "python",
   "pygments_lexer": "ipython3",
   "version": "3.6.3"
  }
 },
 "nbformat": 4,
 "nbformat_minor": 2
}
