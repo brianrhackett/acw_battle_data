{
 "cells": [
  {
   "cell_type": "code",
   "execution_count": 1,
   "metadata": {
    "collapsed": true
   },
   "outputs": [],
   "source": [
    "import yaml"
   ]
  },
  {
   "cell_type": "code",
   "execution_count": 2,
   "metadata": {
    "collapsed": true
   },
   "outputs": [],
   "source": [
    "import csv"
   ]
  },
  {
   "cell_type": "code",
   "execution_count": 168,
   "metadata": {
    "collapsed": true
   },
   "outputs": [],
   "source": [
    "PAGES = {\n",
    "    \"Arkansas\": \"675-688\",\n",
    "    \"Alabama\": \"662-660\",\n",
    "    \"California\": \"690-691\",\n",
    "    \"Florida\": \"693-696\",\n",
    "    \"Georgia\": \"700-723\",\n",
    "    \"Kansas\": \"725-726\",\n",
    "    \"Kentucky\": \"730-738\",\n",
    "    \"Louisiana\": \"743-757\",\n",
    "    \"Maryland\": \"759-764\",\n",
    "    \"Minnesota\": \"765\",\n",
    "    \"Mississippi\": \"771-789\",\n",
    "    \"Missouri\": \"797-815\",\n",
    "    \"North_Carolina\": \"818-826\",\n",
    "    \"Pennsylvania\": \"827-828\",\n",
    "    \"South_Carolina\": \"831-835\",\n",
    "    \"Tennessee\": \"845-878\",\n",
    "    \"Texas\": \"880-881\",\n",
    "    \"Virginia\": \"894-965\",\n",
    "    \"West_Virginia\": \"970-980\",\n",
    "    \"Territories\": \"984-989\",\n",
    "    \"Miscellaneous\": \"990-991\"\n",
    "}"
   ]
  },
  {
   "cell_type": "code",
   "execution_count": 97,
   "metadata": {
    "collapsed": true
   },
   "outputs": [],
   "source": [
    "import datetime\n",
    "import re\n",
    "import os\n",
    "from ruamel.yaml import YAML\n",
    "yaml = YAML(typ='safe')\n",
    "yaml.default_flow_style = False\n",
    "yaml.representer.ignore_aliases = lambda x: True\n",
    "\n",
    "def iter_files():\n",
    "    outdir = 'engagements'\n",
    "    for filename in os.listdir(outdir):\n",
    "        fn = os.path.join(outdir, filename)\n",
    "        state, ext = os.path.splitext(fn)\n",
    "        if ext == '.yml':\n",
    "            with open(fn, 'r') as fp:\n",
    "                data = yaml.load(fp)\n",
    "            yield (fn, data)\n"
   ]
  },
  {
   "cell_type": "code",
   "execution_count": 157,
   "metadata": {},
   "outputs": [],
   "source": [
    "from ruamel.yaml import YAML\n",
    "yaml = YAML(typ='safe')\n",
    "yaml.default_flow_style = False\n",
    "yaml.representer.ignore_aliases = lambda x: True"
   ]
  },
  {
   "cell_type": "code",
   "execution_count": 199,
   "metadata": {
    "collapsed": true
   },
   "outputs": [],
   "source": [
    "from slugify import slugify\n",
    "def make_id(state, start_date, end_date, nature_location, num):\n",
    "    if end_date == start_date:\n",
    "        date_str = start_date.strftime(\"%Y-%m-%d\")\n",
    "    else:\n",
    "        date_str = '-'.join(\n",
    "            (start_date.strftime(\"%Y-%m-%d\"),\n",
    "             end_date.strftime(\"%Y-%m-%d\")))\n",
    "    location_slug = slugify(nature_location, word_boundary=True)\n",
    "    num = f'-{num}' if num else ''\n",
    "    return \"{}/{}-{}{}\".format(state, date_str, location_slug, num)\n",
    "  "
   ]
  },
  {
   "cell_type": "code",
   "execution_count": 202,
   "metadata": {},
   "outputs": [],
   "source": [
    "import shutil\n",
    "from slugify import slugify\n",
    "\n",
    "foo = set()\n",
    "for filename in os.listdir(outdir):\n",
    "    fn = os.path.join(outdir, filename)\n",
    "    state, ext = os.path.splitext(fn)\n",
    "    if ext == '.yml':\n",
    "        shutil.copy(fn, fn + '.bak')\n",
    "        with open(fn, 'r') as fp:\n",
    "            data = yaml.load(fp)\n",
    "        for row in data:\n",
    "            new_id = make_id(re.sub(\" \", \"_\", row['state']), \n",
    "                             row['start_date'],\n",
    "                             row[\"end_date\"],\n",
    "                             row['nature_location'],\n",
    "                             row.get('num'))\n",
    "            if new_id in foo:\n",
    "                print(new_id, \" is a duplicate\")\n",
    "            else:\n",
    "                foo.add(new_id)\n",
    "            row['slug'] = new_id\n",
    "        with open(fn, 'w') as fp:\n",
    "            yaml.dump(data, fp)            "
   ]
  },
  {
   "cell_type": "code",
   "execution_count": null,
   "metadata": {},
   "outputs": [],
   "source": [
    "  "
   ]
  },
  {
   "cell_type": "code",
   "execution_count": null,
   "metadata": {
    "collapsed": true
   },
   "outputs": [],
   "source": []
  }
 ],
 "metadata": {
  "kernelspec": {
   "display_name": "Python 3",
   "language": "python",
   "name": "python3"
  },
  "language_info": {
   "codemirror_mode": {
    "name": "ipython",
    "version": 3
   },
   "file_extension": ".py",
   "mimetype": "text/x-python",
   "name": "python",
   "nbconvert_exporter": "python",
   "pygments_lexer": "ipython3",
   "version": "3.6.3"
  }
 },
 "nbformat": 4,
 "nbformat_minor": 2
}
