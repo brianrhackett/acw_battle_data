{
 "cells": [
  {
   "cell_type": "code",
   "execution_count": 1,
   "metadata": {
    "collapsed": true
   },
   "outputs": [],
   "source": [
    "import csv\n",
    "import yaml"
   ]
  },
  {
   "cell_type": "code",
   "execution_count": 7,
   "metadata": {
    "collapsed": true
   },
   "outputs": [],
   "source": [
    "with open(\"rawdata/battlemisc/battlemisc.csv\", \"r\") as fp:\n",
    "     battlemisc = list(csv.DictReader(fp))\n",
    "    \n",
    "battlemisc = {x['cwsac_id']: x for x in battlemisc}"
   ]
  },
  {
   "cell_type": "code",
   "execution_count": 8,
   "metadata": {
    "collapsed": true
   },
   "outputs": [],
   "source": [
    "with open(\"rawdata/ships/ships_in_battles.yaml\", \"r\") as fp:\n",
    "    ships = yaml.load(fp)\n",
    "ships = {x['cwsac_id']: x for x in ships}"
   ]
  },
  {
   "cell_type": "code",
   "execution_count": 10,
   "metadata": {},
   "outputs": [],
   "source": [
    "with open(\"data/nps_battles.csv\", \"r\") as fp:\n",
    "    nps_battles = list(csv.DictReader(fp))"
   ]
  },
  {
   "cell_type": "code",
   "execution_count": 12,
   "metadata": {
    "collapsed": true
   },
   "outputs": [],
   "source": [
    "import os\n",
    "os.makedirs('rawdata/battlemisc/battles')"
   ]
  },
  {
   "cell_type": "code",
   "execution_count": 37,
   "metadata": {},
   "outputs": [],
   "source": [
    "newdata = []\n",
    "for battle in nps_battles:\n",
    "    data = {k: battle[k] for k in ('cwsac_id', 'battle_name', 'start_date', 'end_date', 'result',\n",
    "                                   )}\n",
    "    id_ = data['cwsac_id']\n",
    "    try:\n",
    "        btl_ships = ships[id_]\n",
    "        data['fortifications'] = btl_ships['fortifications']\n",
    "        data['ships'] = {}\n",
    "        data['ships']['US'] = btl_ships['US']\n",
    "        data['ships']['Confederate'] = btl_ships['Confederate']\n",
    "    except KeyError:\n",
    "        pass\n",
    "    try:\n",
    "        misc = battlemisc[id_]\n",
    "    except KeyError:\n",
    "        misc = None\n",
    "    if misc:\n",
    "        for k in ('attacker', 'siege', 'naval'):\n",
    "            data[k] = misc[k]\n",
    "    newdata.append(data)\n"
   ]
  },
  {
   "cell_type": "code",
   "execution_count": 38,
   "metadata": {},
   "outputs": [],
   "source": [
    "os.makedirs('rawdata/battlemisc/battles/', exist_ok=True)\n",
    "for x in newdata:\n",
    "    with open(f'rawdata/battlemisc/battles/{x[\"cwsac_id\"]}.yml', 'w') as f:\n",
    "        yaml.dump(x, f, default_flow_style=False)"
   ]
  }
 ],
 "metadata": {
  "kernelspec": {
   "display_name": "Python 3",
   "language": "python",
   "name": "python3"
  },
  "language_info": {
   "codemirror_mode": {
    "name": "ipython",
    "version": 3
   },
   "file_extension": ".py",
   "mimetype": "text/x-python",
   "name": "python",
   "nbconvert_exporter": "python",
   "pygments_lexer": "ipython3",
   "version": "3.6.3"
  }
 },
 "nbformat": 4,
 "nbformat_minor": 2
}
